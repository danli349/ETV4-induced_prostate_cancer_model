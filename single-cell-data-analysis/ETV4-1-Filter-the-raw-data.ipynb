{
 "cells": [
  {
   "cell_type": "markdown",
   "id": "31eabf5e-3234-447c-bb35-a359a0536f7d",
   "metadata": {},
   "source": [
    "# ETV4AAA induced mouse prostate malignancy by 10x Chromium"
   ]
  },
  {
   "cell_type": "code",
   "execution_count": 1,
   "id": "d04728c3",
   "metadata": {},
   "outputs": [],
   "source": [
    "import rpy2.rinterface_lib.callbacks\n",
    "import logging\n",
    "# Ignore R warning messages\n",
    "#Note: this can be commented out to get more verbose R output\n",
    "rpy2.rinterface_lib.callbacks.logger.setLevel(logging.ERROR)\n",
    "%load_ext rpy2.ipython"
   ]
  },
  {
   "cell_type": "code",
   "execution_count": 14,
   "id": "c380bfb5",
   "metadata": {},
   "outputs": [],
   "source": [
    "import scanpy as sc\n",
    "import numpy as np\n",
    "import scipy as sp\n",
    "import pandas as pd\n",
    "import matplotlib.pyplot as plt\n",
    "from matplotlib import rcParams\n",
    "from matplotlib import colors\n",
    "import seaborn as sb\n",
    "from gprofiler import GProfiler\n",
    "import rpy2.rinterface_lib.callbacks\n",
    "import logging\n",
    "from rpy2.robjects import pandas2ri\n",
    "import anndata2ri\n",
    "import doubletdetection as dd\n",
    "\n",
    "sc.settings.n_jobs=12\n",
    "sc.set_figure_params()"
   ]
  },
  {
   "cell_type": "markdown",
   "id": "46e3d378",
   "metadata": {},
   "source": [
    "## Preprocessing\n",
    "\n",
    "### Read the cellranger output"
   ]
  },
  {
   "cell_type": "code",
   "execution_count": 2,
   "id": "d2a93ad0",
   "metadata": {},
   "outputs": [],
   "source": [
    "#Data files\n",
    "sample_strings = ['TY', 'EWT', 'E4A', 'E4Ap53']\n",
    "file_base = './ETV4/raw/'\n",
    "exp_strings = ['_2weeks_', '_4months_']\n",
    "sample_id_strings = ['1', '2', '3']\n",
    "data_file_end = 'matrix.mtx.gz'\n",
    "barcode_file_end = 'barcodes.tsv.gz'\n",
    "gene_file_end = 'features.tsv.gz'\n",
    "cc_genes_file = './regev_lab_cell_cycle_genes.txt'\n",
    "\n",
    "# Loop to load rest of data sets\n",
    "data_file=[]\n",
    "barcode_file=[]\n",
    "gene_file=[]\n",
    "for i in range(len(sample_strings)):\n",
    "    #Parse Filenames\n",
    "    sample = sample_strings[i]\n",
    "    for j in range(len(exp_strings)):\n",
    "        exp_string = exp_strings[j]\n",
    "        for k in range(len(sample_id_strings)):\n",
    "            sample_id = sample_id_strings[k]\n",
    "            data_file.append(file_base+sample+exp_string+sample_id)\n",
    "            barcode_file.append(file_base+sample+exp_string+sample_id)\n",
    "            gene_file.append(file_base+sample+exp_string+sample_id)"
   ]
  },
  {
   "cell_type": "code",
   "execution_count": 3,
   "id": "9e493450",
   "metadata": {},
   "outputs": [
    {
     "data": {
      "text/plain": [
       "['./ETV4/raw/TY_2weeks_1',\n",
       " './ETV4/raw/TY_2weeks_2',\n",
       " './ETV4/raw/TY_2weeks_3',\n",
       " './ETV4/raw/TY_4months_1',\n",
       " './ETV4/raw/TY_4months_2',\n",
       " './ETV4/raw/TY_4months_3',\n",
       " './ETV4/raw/EWT_2weeks_1',\n",
       " './ETV4/raw/EWT_2weeks_2',\n",
       " './ETV4/raw/EWT_2weeks_3',\n",
       " './ETV4/raw/EWT_4months_1',\n",
       " './ETV4/raw/EWT_4months_2',\n",
       " './ETV4/raw/EWT_4months_3',\n",
       " './ETV4/raw/E4A_2weeks_1',\n",
       " './ETV4/raw/E4A_2weeks_2',\n",
       " './ETV4/raw/E4A_2weeks_3',\n",
       " './ETV4/raw/E4A_4months_1',\n",
       " './ETV4/raw/E4A_4months_2',\n",
       " './ETV4/raw/E4A_4months_3',\n",
       " './ETV4/raw/E4Ap53_2weeks_1',\n",
       " './ETV4/raw/E4Ap53_2weeks_2',\n",
       " './ETV4/raw/E4Ap53_2weeks_3',\n",
       " './ETV4/raw/E4Ap53_4months_1',\n",
       " './ETV4/raw/E4Ap53_4months_2',\n",
       " './ETV4/raw/E4Ap53_4months_3']"
      ]
     },
     "execution_count": 3,
     "metadata": {},
     "output_type": "execute_result"
    }
   ],
   "source": [
    "data_file"
   ]
  },
  {
   "cell_type": "markdown",
   "id": "89ea1a20",
   "metadata": {},
   "source": [
    "### Filter the raw data using scCB2"
   ]
  },
  {
   "cell_type": "code",
   "execution_count": 4,
   "id": "3019a0ea",
   "metadata": {},
   "outputs": [
    {
     "name": "stdout",
     "output_type": "stream",
     "text": [
      "[1] \"./ETV4/filtered/TY_2weeks_1\"\n",
      "[1] \"./ETV4/filtered/TY_2weeks_2\"\n",
      "[1] \"./ETV4/filtered/TY_2weeks_3\"\n",
      "[1] \"./ETV4/filtered/TY_4months_1\"\n",
      "[1] \"./ETV4/filtered/TY_4months_2\"\n",
      "[1] \"./ETV4/filtered/TY_4months_3\"\n",
      "[1] \"./ETV4/filtered/EWT_2weeks_1\"\n",
      "[1] \"./ETV4/filtered/EWT_2weeks_2\"\n",
      "[1] \"./ETV4/filtered/EWT_2weeks_3\"\n",
      "[1] \"./ETV4/filtered/EWT_4months_1\"\n",
      "[1] \"./ETV4/filtered/EWT_4months_2\"\n",
      "[1] \"./ETV4/filtered/EWT_4months_3\"\n",
      "[1] \"./ETV4/filtered/E4A_2weeks_1\"\n",
      "[1] \"./ETV4/filtered/E4A_2weeks_2\"\n",
      "[1] \"./ETV4/filtered/E4A_2weeks_3\"\n",
      "[1] \"./ETV4/filtered/E4A_4months_1\"\n",
      "[1] \"./ETV4/filtered/E4A_4months_2\"\n",
      "[1] \"./ETV4/filtered/E4A_4months_3\"\n",
      "[1] \"./ETV4/filtered/E4Ap53_2weeks_1\"\n",
      "[1] \"./ETV4/filtered/E4Ap53_2weeks_2\"\n",
      "[1] \"./ETV4/filtered/E4Ap53_2weeks_3\"\n",
      "[1] \"./ETV4/filtered/E4Ap53_4months_1\"\n",
      "[1] \"./ETV4/filtered/E4Ap53_4months_2\"\n",
      "[1] \"./ETV4/filtered/E4Ap53_4months_3\"\n"
     ]
    }
   ],
   "source": [
    "%%R -i data_file\n",
    "for (i in data_file) {\n",
    "    print(paste0(\"./ETV4/filtered/\", basename(i)))\n",
    "}"
   ]
  },
  {
   "cell_type": "code",
   "execution_count": 5,
   "id": "31dce172",
   "metadata": {},
   "outputs": [
    {
     "name": "stdout",
     "output_type": "stream",
     "text": [
      "[1] \"./ETV4/raw/TY_2weeks_1\"\n",
      "Time difference of 2.052453 mins\n",
      "[1] \"./ETV4/raw/TY_2weeks_2\"\n",
      "Time difference of 1.982656 mins\n",
      "[1] \"./ETV4/raw/TY_2weeks_3\"\n",
      "Time difference of 1.811328 mins\n",
      "[1] \"./ETV4/raw/TY_4months_1\"\n",
      "Time difference of 1.830371 mins\n",
      "[1] \"./ETV4/raw/TY_4months_2\"\n",
      "Time difference of 2.286967 mins\n",
      "[1] \"./ETV4/raw/TY_4months_3\"\n",
      "Time difference of 2.253415 mins\n",
      "[1] \"./ETV4/raw/EWT_2weeks_1\"\n",
      "Time difference of 2.275727 mins\n",
      "[1] \"./ETV4/raw/EWT_2weeks_2\"\n",
      "Time difference of 2.043041 mins\n",
      "[1] \"./ETV4/raw/EWT_2weeks_3\"\n",
      "Time difference of 1.533912 mins\n",
      "[1] \"./ETV4/raw/EWT_4months_1\"\n",
      "Time difference of 2.547668 mins\n",
      "[1] \"./ETV4/raw/EWT_4months_2\"\n",
      "Time difference of 2.379622 mins\n",
      "[1] \"./ETV4/raw/EWT_4months_3\"\n",
      "Time difference of 2.137279 mins\n",
      "[1] \"./ETV4/raw/E4A_2weeks_1\"\n",
      "Time difference of 1.793202 mins\n",
      "[1] \"./ETV4/raw/E4A_2weeks_2\"\n",
      "Time difference of 2.240405 mins\n",
      "[1] \"./ETV4/raw/E4A_2weeks_3\"\n",
      "Time difference of 2.739024 mins\n",
      "[1] \"./ETV4/raw/E4A_4months_1\"\n",
      "Time difference of 2.395473 mins\n",
      "[1] \"./ETV4/raw/E4A_4months_2\"\n",
      "Time difference of 2.21893 mins\n",
      "[1] \"./ETV4/raw/E4A_4months_3\"\n",
      "Time difference of 2.413809 mins\n",
      "[1] \"./ETV4/raw/E4Ap53_2weeks_1\"\n",
      "Time difference of 1.849057 mins\n",
      "[1] \"./ETV4/raw/E4Ap53_2weeks_2\"\n",
      "Time difference of 1.745662 mins\n",
      "[1] \"./ETV4/raw/E4Ap53_2weeks_3\"\n",
      "Time difference of 2.183007 mins\n",
      "[1] \"./ETV4/raw/E4Ap53_4months_1\"\n",
      "Time difference of 2.478607 mins\n",
      "[1] \"./ETV4/raw/E4Ap53_4months_2\"\n",
      "Time difference of 3.051705 mins\n",
      "[1] \"./ETV4/raw/E4Ap53_4months_3\"\n",
      "Time difference of 2.838091 mins\n"
     ]
    }
   ],
   "source": [
    "%%R -i data_file\n",
    "library(scCB2)\n",
    "library(SummarizedExperiment)\n",
    "# If raw data has three separate files within one directory\n",
    "# and you want to control FDR at the default 1%:\n",
    "for (i in data_file) {\n",
    "    print(i)\n",
    "    tmp =  QuickCB2(dir = i, FDR_threshold = 0.01, lower = 100, Ncores = 12)\n",
    "    DropletUtils::write10xCounts(paste0(\"./ETV4/filtered/\", basename(i)), tmp, version = \"3\")\n",
    "}\n",
    "# If raw data is in HDF5 format and \n",
    "# you'd like a Seurat object under default FDR threshold:\n",
    "# RealCell_S <-  QuickCB2(h5file = \"/path/to/raw/data/HDF5\", AsSeurat = TRUE)"
   ]
  },
  {
   "cell_type": "code",
   "execution_count": 44,
   "id": "423e61c9",
   "metadata": {},
   "outputs": [
    {
     "name": "stdout",
     "output_type": "stream",
     "text": [
      "[1] \"./ETV4/raw/TY_2weeks_1/../filtered/TY_2weeks_1\"\n"
     ]
    }
   ],
   "source": [
    "%%R -i data_file\n",
    "basename(data_file[[1]])\n",
    "paste0(data_file[[1]],\"/../filtered/\",basename(data_file[[1]]))"
   ]
  }
 ],
 "metadata": {
  "kernelspec": {
   "display_name": "Python 3",
   "language": "python",
   "name": "python3"
  },
  "language_info": {
   "codemirror_mode": {
    "name": "ipython",
    "version": 3
   },
   "file_extension": ".py",
   "mimetype": "text/x-python",
   "name": "python",
   "nbconvert_exporter": "python",
   "pygments_lexer": "ipython3",
   "version": "3.8.5"
  }
 },
 "nbformat": 4,
 "nbformat_minor": 5
}
