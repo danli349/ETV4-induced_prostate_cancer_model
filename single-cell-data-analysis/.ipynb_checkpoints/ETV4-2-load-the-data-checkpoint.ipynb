{
 "cells": [
  {
   "cell_type": "markdown",
   "id": "9830cb2c",
   "metadata": {},
   "source": [
    "# ETV4AAA induced mouse prostate malignancy by 10x Chromium"
   ]
  },
  {
   "cell_type": "markdown",
   "id": "8d3248b5",
   "metadata": {},
   "source": [
    "If the relevant libraries and modules have been installed on the system, they must be loaded. \n",
    "The scanpy api gives access to all tools availalbe via the scanpy platform. \n",
    "Numpy and scipy are useful scientific computing libraries that are used by scanpy, and \n",
    "pandas is used to load in the data. \n",
    "Pandas is also the basis of the data structures used in scanpy (the Anndata module). \n",
    "Matplotlib and seaborn are used for plotting.\n",
    "\n",
    "R libraries that are used in this tutorial include:\n",
    "- scran for preprocessing\n",
    "- MAST for differential expression analysis\n"
   ]
  },
  {
   "cell_type": "code",
   "execution_count": 1,
   "id": "25d52f40",
   "metadata": {},
   "outputs": [
    {
     "name": "stdout",
     "output_type": "stream",
     "text": [
      "-----\n",
      "anndata     0.7.5\n",
      "scanpy      1.6.1\n",
      "sinfo       0.3.1\n",
      "-----\n",
      "Crypto                              3.10.1\n",
      "OpenSSL                             20.0.1\n",
      "PIL                                 8.1.0\n",
      "absl                                NA\n",
      "anndata                             0.7.5\n",
      "anndata2ri                          1.0.6\n",
      "anyio                               NA\n",
      "appdirs                             1.4.4\n",
      "astunparse                          1.6.3\n",
      "attr                                21.2.0\n",
      "babel                               2.9.0\n",
      "backcall                            0.2.0\n",
      "batchglm                            v0.7.4\n",
      "bcrypt                              3.2.0\n",
      "bioservices                         1.7.11\n",
      "boto3                               1.17.107\n",
      "botocore                            1.20.107\n",
      "brotli                              NA\n",
      "bs4                                 4.9.3\n",
      "cairo                               1.20.0\n",
      "certifi                             2021.05.30\n",
      "cffi                                1.14.4\n",
      "chardet                             4.0.0\n",
      "colorama                            0.4.4\n",
      "colorlog                            NA\n",
      "cryptography                        3.4.8\n",
      "cycler                              0.10.0\n",
      "cython_runtime                      NA\n",
      "dask                                2021.03.0\n",
      "dateutil                            2.8.1\n",
      "decorator                           4.4.2\n",
      "diffxpy                             v0.7.4\n",
      "dill                                0.3.3\n",
      "docutils                            0.17.1\n",
      "doubletdetection                    3.0\n",
      "easydev                             0.11.0\n",
      "fe17a9cb4bdaf05853229027e5fef937    NA\n",
      "flatbuffers                         NA\n",
      "gast                                NA\n",
      "get_version                         2.1\n",
      "google                              NA\n",
      "google_auth_httplib2                NA\n",
      "googleapiclient                     NA\n",
      "gprofiler                           1.0.0\n",
      "gseapy                              0.10.4\n",
      "h5py                                2.10.0\n",
      "httplib2                            0.19.1\n",
      "idna                                2.10\n",
      "igraph                              0.9.6\n",
      "ipykernel                           5.4.3\n",
      "ipython_genutils                    0.2.0\n",
      "ipywidgets                          7.6.3\n",
      "jedi                                0.18.0\n",
      "jinja2                              3.0.1\n",
      "jmespath                            0.10.0\n",
      "joblib                              1.0.0\n",
      "json5                               NA\n",
      "jsonschema                          3.2.0\n",
      "jupyter_server                      1.2.2\n",
      "jupyterlab_server                   2.1.3\n",
      "keras_preprocessing                 1.1.2\n",
      "kiwisolver                          1.3.1\n",
      "legacy_api_wrap                     1.2\n",
      "leidenalg                           0.8.1\n",
      "llvmlite                            0.34.0\n",
      "louvain                             0.7.0\n",
      "lxml                                4.6.2\n",
      "markupsafe                          2.0.1\n",
      "matplotlib                          3.4.2\n",
      "mpl_toolkits                        NA\n",
      "natsort                             7.1.1\n",
      "nbclassic                           NA\n",
      "nbformat                            5.1.2\n",
      "numba                               0.51.2\n",
      "numexpr                             2.7.2\n",
      "numpy                               1.21.0\n",
      "oauth2client                        4.1.3\n",
      "opt_einsum                          v3.3.0\n",
      "packaging                           20.8\n",
      "pandas                              1.2.1\n",
      "parso                               0.8.1\n",
      "patsy                               0.5.1\n",
      "pexpect                             4.8.0\n",
      "phenograph                          1.5.6\n",
      "pickleshare                         0.7.5\n",
      "pkg_resources                       NA\n",
      "prometheus_client                   NA\n",
      "prompt_toolkit                      3.0.14\n",
      "psutil                              5.8.0\n",
      "ptyprocess                          0.7.0\n",
      "pvectorc                            NA\n",
      "pyasn1                              0.4.8\n",
      "pyasn1_modules                      0.2.7\n",
      "pycparser                           2.20\n",
      "pydotplus                           NA\n",
      "pygments                            2.7.4\n",
      "pylab                               NA\n",
      "pyparsing                           2.4.7\n",
      "pyrsistent                          NA\n",
      "pytz                                2021.1\n",
      "requests                            2.25.1\n",
      "requests_cache                      0.5.2\n",
      "rpy2                                3.4.2\n",
      "rsa                                 4.7.2\n",
      "scanpy                              1.6.1\n",
      "scipy                               1.4.1\n",
      "seaborn                             0.11.1\n",
      "send2trash                          NA\n",
      "setuptools_scm                      NA\n",
      "simplejson                          3.17.2\n",
      "sinfo                               0.3.1\n",
      "six                                 1.16.0\n",
      "sklearn                             0.24.1\n",
      "sniffio                             1.2.0\n",
      "socks                               1.7.1\n",
      "soupsieve                           2.2\n",
      "sparse                              0.11.2\n",
      "sphinxcontrib                       NA\n",
      "statsmodels                         0.12.1\n",
      "storemagic                          NA\n",
      "tables                              3.6.1\n",
      "tensorboard                         2.4.1\n",
      "tensorflow                          2.4.1\n",
      "termcolor                           1.1.0\n",
      "texttable                           1.6.3\n",
      "tlz                                 0.11.1\n",
      "toolz                               0.11.1\n",
      "tornado                             6.1\n",
      "tqdm                                4.56.0\n",
      "traitlets                           5.0.5\n",
      "typing_extensions                   NA\n",
      "tzlocal                             NA\n",
      "uritemplate                         3.0.1\n",
      "urllib3                             1.26.3\n",
      "wcwidth                             0.2.5\n",
      "wrapt                               1.12.1\n",
      "yaml                                5.4.1\n",
      "zmq                                 20.0.0\n",
      "zope                                NA\n",
      "-----\n",
      "IPython             7.20.0\n",
      "jupyter_client      6.1.11\n",
      "jupyter_core        4.7.1\n",
      "jupyterlab          3.0.7\n",
      "notebook            6.2.0\n",
      "-----\n",
      "Python 3.8.5 (default, Sep  4 2020, 07:30:14) [GCC 7.3.0]\n",
      "Linux-4.4.0-19041-Microsoft-x86_64-with-glibc2.10\n",
      "12 logical CPU cores, x86_64\n",
      "-----\n",
      "Session information updated at 2021-11-10 12:33\n",
      "\n",
      "scanpy==1.6.1 anndata==0.7.5 umap==0.4.6 numpy==1.21.0 scipy==1.4.1 pandas==1.2.1 scikit-learn==0.24.1 statsmodels==0.12.1 python-igraph==0.9.6 louvain==0.7.0 leidenalg==0.8.1\n"
     ]
    }
   ],
   "source": [
    "import scanpy as sc\n",
    "import numpy as np\n",
    "import scipy as sp\n",
    "import pandas as pd\n",
    "import matplotlib.pyplot as plt\n",
    "from matplotlib import rcParams\n",
    "from matplotlib import colors\n",
    "import seaborn as sb\n",
    "from gprofiler import GProfiler\n",
    "import rpy2.rinterface_lib.callbacks\n",
    "import logging\n",
    "from rpy2.robjects import pandas2ri\n",
    "import anndata2ri\n",
    "import doubletdetection as dd\n",
    "from gseapy.plot import barplot, dotplot\n",
    "import os, sys\n",
    "import gseapy as gp\n",
    "from anndata import AnnData\n",
    "\n",
    "import scipy.stats\n",
    "import diffxpy.api as de\n",
    "import anndata\n",
    "from batchglm.api.models.tf1.glm_nb import Simulator\n",
    "\n",
    "# Automatically convert rpy2 outputs to pandas dataframes\n",
    "pandas2ri.activate()\n",
    "anndata2ri.activate()\n",
    "\n",
    "\n",
    "plt.rcParams['figure.figsize']=(8,8) #rescale figures\n",
    "sc.settings.verbosity = 0   # verbosity: errors (0), warnings (1), info (2), hints (3)\n",
    "sc.settings.set_figure_params(dpi=200, dpi_save=300, facecolor='white')\n",
    "sc.logging.print_versions()\n",
    "sc.logging.print_header()\n",
    "\n",
    "# Ignore R warning messages\n",
    "#Note: this can be commented out to get more verbose R output\n",
    "rpy2.rinterface_lib.callbacks.logger.setLevel(logging.ERROR)\n",
    "%load_ext rpy2.ipython\n",
    "\n",
    "%matplotlib inline\n",
    "\n",
    "plt.rcParams.update({'font.size': 22})\n",
    "\n",
    "import matplotlib\n",
    "matplotlib.rcParams['pdf.fonttype'] = 42\n",
    "matplotlib.rcParams['ps.fonttype'] = 42"
   ]
  },
  {
   "cell_type": "code",
   "execution_count": 2,
   "id": "ceb18dd6",
   "metadata": {},
   "outputs": [],
   "source": [
    "%%R\n",
    "# Load libraries from correct lib Paths for my environment - ignore this!\n",
    "#.libPaths(\"/home/dan/R/x86_64-pc-linux-gnu-library/4.03\")\n",
    "#Sys.setenv(R_INSTALL_STAGED = FALSE)\n",
    "\n",
    "#sudo apt-get install aptitude\n",
    "\n",
    "#sudo apt-get install libcurl4-openssl-dev\n",
    "\n",
    "#sudo apt-get install libxml2-dev\n",
    "\n",
    "# Load all the R libraries we will be using in the notebook\n",
    "library(scran)\n",
    "library(RColorBrewer)\n",
    "library(clusterExperiment)\n",
    "library(ggplot2)\n",
    "library(plyr)\n",
    "library(MAST)\n",
    "#library(scCB2)\n",
    "#library(DropletUtils)\n",
    "library(Seurat)\n",
    "library(NMF)\n",
    "library(BiocFileCache)"
   ]
  },
  {
   "cell_type": "code",
   "execution_count": null,
   "id": "634fe247",
   "metadata": {},
   "outputs": [],
   "source": [
    "# Set up data loading\n",
    "\n",
    "#Data files\n",
    "sample_strings = ['TY', 'EWT', 'E4A', 'E4Ap53']\n",
    "file_base = './data/'\n",
    "exp_strings = ['_2weeks_', '_4months_']\n",
    "sample_id_strings = ['1', '2', '3']\n",
    "data_file_end = 'matrix.mtx.gz'\n",
    "barcode_file_end = 'barcodes.tsv.gz'\n",
    "gene_file_end = 'features.tsv.gz'\n",
    "cc_genes_file = './Macosko_cell_cycle_genes.txt'"
   ]
  },
  {
   "cell_type": "code",
   "execution_count": null,
   "id": "4883339c",
   "metadata": {},
   "outputs": [],
   "source": [
    "# First data set load & annotation\n",
    "#Parse Filenames\n",
    "sample = sample_strings.pop(0)\n",
    "sample_id = sample_id_strings.pop(0)\n",
    "exp_string = exp_strings.pop(0)\n",
    "data_file = file_base+sample+exp_string+sample_id+'/'+'matrix.mtx.gz'\n",
    "barcode_file = file_base+sample+exp_string+sample_id+'/'+'barcodes.tsv.gz'\n",
    "gene_file = file_base+sample+exp_string+sample_id+'/'+'features.tsv.gz'"
   ]
  },
  {
   "cell_type": "code",
   "execution_count": null,
   "id": "033e8bb6",
   "metadata": {},
   "outputs": [],
   "source": [
    "#Load data using scanpy\n",
    "adata = sc.read(data_file, cache=True)\n",
    "adata = adata.transpose()"
   ]
  },
  {
   "cell_type": "code",
   "execution_count": null,
   "id": "857cde0c",
   "metadata": {},
   "outputs": [],
   "source": [
    "#Sparse data formats are not supported by rpy2 and therefore do not work with any of the integrated R commands.\n",
    "#Datasets can be turned into a dense format using the code:\n",
    "adata.X = adata.X.toarray()\n",
    "\n",
    "barcodes = pd.read_csv(barcode_file, header=None, sep='\\t')\n",
    "genes = pd.read_csv(gene_file, header=None, sep='\\t')\n"
   ]
  },
  {
   "cell_type": "code",
   "execution_count": null,
   "id": "63f5c120",
   "metadata": {},
   "outputs": [],
   "source": [
    "genes.head()"
   ]
  },
  {
   "cell_type": "code",
   "execution_count": null,
   "id": "bce2497e",
   "metadata": {},
   "outputs": [],
   "source": [
    "#Annotate data\n",
    "barcodes.rename(columns={0:'barcode'}, inplace=True)\n",
    "barcodes.set_index('barcode', inplace=True)\n",
    "adata.obs = barcodes"
   ]
  },
  {
   "cell_type": "code",
   "execution_count": null,
   "id": "20029201",
   "metadata": {},
   "outputs": [],
   "source": [
    "adata.obs"
   ]
  },
  {
   "cell_type": "code",
   "execution_count": null,
   "id": "e31555ba",
   "metadata": {},
   "outputs": [],
   "source": [
    "adata.obs['sample'] = [sample]*adata.n_obs\n",
    "adata.obs['age'] = [exp_string.split(\"_\")[1]]*adata.n_obs\n",
    "adata.obs['batch'] = [sample_id]*adata.n_obs\n",
    "adata.obs['genotype_age'] = [sample+'_'+exp_string.split(\"_\")[1]]*adata.n_obs"
   ]
  },
  {
   "cell_type": "code",
   "execution_count": null,
   "id": "aa4cb3e3",
   "metadata": {},
   "outputs": [],
   "source": [
    "adata.obs"
   ]
  },
  {
   "cell_type": "code",
   "execution_count": null,
   "id": "06f5c0de",
   "metadata": {},
   "outputs": [],
   "source": [
    "genes"
   ]
  },
  {
   "cell_type": "code",
   "execution_count": null,
   "id": "12f52341",
   "metadata": {},
   "outputs": [],
   "source": [
    "genes.rename(columns={0:'gene_id', 1:'gene_symbol'}, inplace=True)\n",
    "genes.set_index('gene_symbol', inplace=True)\n",
    "adata.var = genes"
   ]
  },
  {
   "cell_type": "code",
   "execution_count": null,
   "id": "9a24547a",
   "metadata": {},
   "outputs": [],
   "source": [
    "genes.index"
   ]
  },
  {
   "cell_type": "code",
   "execution_count": null,
   "id": "15737ce3",
   "metadata": {},
   "outputs": [],
   "source": [
    "adata.var_names_make_unique()"
   ]
  },
  {
   "cell_type": "code",
   "execution_count": null,
   "id": "1ff384c4",
   "metadata": {},
   "outputs": [],
   "source": [
    "adata.var.columns"
   ]
  },
  {
   "cell_type": "code",
   "execution_count": null,
   "id": "c3431533",
   "metadata": {},
   "outputs": [],
   "source": [
    "adata.obs"
   ]
  },
  {
   "cell_type": "code",
   "execution_count": null,
   "id": "eb293f99",
   "metadata": {},
   "outputs": [],
   "source": [
    "adata.var['gene_id']"
   ]
  },
  {
   "cell_type": "code",
   "execution_count": null,
   "id": "1af1256a",
   "metadata": {},
   "outputs": [],
   "source": [
    "# Set up data loading\n",
    "\n",
    "#Data files\n",
    "sample_strings = ['TY', 'EWT', 'E4A', 'E4Ap53']\n",
    "file_base = './data/'\n",
    "exp_strings = ['_2weeks_', '_4months_']\n",
    "sample_id_strings = ['1', '2', '3']\n",
    "data_file_end = 'matrix.mtx.gz'\n",
    "barcode_file_end = 'barcodes.tsv.gz'\n",
    "gene_file_end = 'features.tsv.gz'\n",
    "cc_genes_file = './regev_lab_cell_cycle_genes.txt'\n",
    "\n",
    "# Loop to load rest of data sets\n",
    "data_file=[]\n",
    "barcode_file=[]\n",
    "gene_file=[]\n",
    "for i in range(len(sample_strings)):\n",
    "    #Parse Filenames\n",
    "    sample = sample_strings[i]\n",
    "    for j in range(len(exp_strings)):\n",
    "        exp_string = exp_strings[j]\n",
    "        for k in range(len(sample_id_strings)):\n",
    "            sample_id = sample_id_strings[k]\n",
    "            data_file.append(file_base+sample+exp_string+sample_id+'/'+'matrix.mtx.gz')\n",
    "            barcode_file.append(file_base+sample+exp_string+sample_id+'/'+'barcodes.tsv.gz')\n",
    "            gene_file.append(file_base+sample+exp_string+sample_id+'/'+'features.tsv.gz')"
   ]
  },
  {
   "cell_type": "code",
   "execution_count": null,
   "id": "ade07e9d",
   "metadata": {},
   "outputs": [],
   "source": [
    "len(data_file)"
   ]
  },
  {
   "cell_type": "code",
   "execution_count": null,
   "id": "2acfb9aa",
   "metadata": {},
   "outputs": [],
   "source": [
    "[data_file[i].split(\"/\")[2].split(\"_\")[0]]"
   ]
  },
  {
   "cell_type": "code",
   "execution_count": null,
   "id": "41d61a4b",
   "metadata": {},
   "outputs": [],
   "source": [
    "[data_file[i].split(\"/\")[2].split(\"_\")[1]]"
   ]
  },
  {
   "cell_type": "code",
   "execution_count": null,
   "id": "097ebbcb",
   "metadata": {},
   "outputs": [],
   "source": [
    "[data_file[i].split(\"/\")[2].split(\"_\")[2]]"
   ]
  },
  {
   "cell_type": "code",
   "execution_count": null,
   "id": "9d5b7075",
   "metadata": {},
   "outputs": [],
   "source": [
    "[data_file[i].split(\"/\")[2].split(\"_\")[0]+'_'+data_file[i].split(\"/\")[2].split(\"_\")[1]]"
   ]
  },
  {
   "cell_type": "code",
   "execution_count": null,
   "id": "51c60881",
   "metadata": {},
   "outputs": [],
   "source": [
    "# Loop to load rest of data sets\n",
    "for i in range(1,len(data_file)):\n",
    "    #Parse Filenames\n",
    "    data_file_tem = data_file[i]\n",
    "    barcode_file_tem = barcode_file[i]\n",
    "    gene_file_tem = gene_file[i]\n",
    "    \n",
    "    #Load data\n",
    "    adata_tmp = sc.read(data_file_tem, cache=True)\n",
    "    adata_tmp = adata_tmp.transpose()\n",
    "    adata_tmp.X = adata_tmp.X.toarray()\n",
    "\n",
    "    barcodes_tmp = pd.read_csv(barcode_file_tem, header=None, sep='\\t')\n",
    "    genes_tmp = pd.read_csv(gene_file_tem, header=None, sep='\\t')\n",
    "    \n",
    "    #Annotate data\n",
    "    barcodes_tmp.rename(columns={0:'barcode'}, inplace=True)\n",
    "    barcodes_tmp.set_index('barcode', inplace=True)\n",
    "    adata_tmp.obs = barcodes_tmp\n",
    "    adata_tmp.obs['sample'] = [data_file[i].split(\"/\")[2].split(\"_\")[0]]*adata_tmp.n_obs\n",
    "    adata_tmp.obs['age'] = [data_file[i].split(\"/\")[2].split(\"_\")[1]]*adata_tmp.n_obs\n",
    "    adata_tmp.obs['batch'] = [data_file[i].split(\"/\")[2].split(\"_\")[2]]*adata_tmp.n_obs\n",
    "    adata_tmp.obs['genotype_age'] = [data_file[i].split(\"/\")[2].split(\"_\")[0]\n",
    "                                     +'_'+data_file[i].split(\"/\")[2].split(\"_\")[1]]*adata_tmp.n_obs\n",
    "    \n",
    "    genes_tmp.rename(columns={0:'gene_id', 1:'gene_symbol'}, inplace=True)\n",
    "    genes_tmp.set_index('gene_symbol', inplace=True)\n",
    "    adata_tmp.var = genes_tmp\n",
    "    adata_tmp.var_names_make_unique()\n",
    "\n",
    "    # Concatenate to main adata object\n",
    "    adata = adata.concatenate(adata_tmp, batch_key='sample_id')\n",
    "    if 'gene_id-1' in adata.var.columns:\n",
    "        adata.var['gene_id'] = adata.var['gene_id-1']\n",
    "        adata.var.drop(columns = ['gene_id-1', 'gene_id-0'], inplace=True)\n",
    "    adata.obs.drop(columns=['sample_id'], inplace=True)\n",
    "    adata.obs_names = [c.split(\"-\")[0] for c in adata.obs_names]\n",
    "    adata.obs_names_make_unique()"
   ]
  },
  {
   "cell_type": "code",
   "execution_count": null,
   "id": "b3feb233",
   "metadata": {},
   "outputs": [],
   "source": [
    "#64003 rows × 3 columns\n",
    "adata.obs"
   ]
  },
  {
   "cell_type": "code",
   "execution_count": null,
   "id": "897ed5ca",
   "metadata": {},
   "outputs": [],
   "source": [
    "#length\n",
    "adata.obs_names"
   ]
  },
  {
   "cell_type": "code",
   "execution_count": null,
   "id": "7469b2ac",
   "metadata": {},
   "outputs": [],
   "source": [
    "#31060 rows × 2 columns\n",
    "adata.var"
   ]
  },
  {
   "cell_type": "code",
   "execution_count": null,
   "id": "fedbad34",
   "metadata": {},
   "outputs": [],
   "source": [
    "adata.var_names"
   ]
  },
  {
   "cell_type": "code",
   "execution_count": null,
   "id": "4227eff4",
   "metadata": {},
   "outputs": [],
   "source": [
    "#Length: 27998\n",
    "adata.var['gene_id']"
   ]
  },
  {
   "cell_type": "code",
   "execution_count": null,
   "id": "7af92efc",
   "metadata": {},
   "outputs": [],
   "source": [
    "adata.var['gene_id']"
   ]
  },
  {
   "cell_type": "code",
   "execution_count": null,
   "id": "158cfc71",
   "metadata": {},
   "outputs": [],
   "source": [
    "#Assign variable names and gene id columns\n",
    "adata.var_names = [g.split(\"_\")[-1] for g in adata.var_names]\n",
    "adata.var['gene_id'] = [g.split(\"_\")[-1] for g in adata.var['gene_id']]"
   ]
  },
  {
   "cell_type": "code",
   "execution_count": null,
   "id": "d07a3099",
   "metadata": {},
   "outputs": [],
   "source": [
    "adata.var['gene_id']"
   ]
  },
  {
   "cell_type": "code",
   "execution_count": null,
   "id": "46cede1a",
   "metadata": {},
   "outputs": [],
   "source": [
    "adata.var_names"
   ]
  },
  {
   "cell_type": "code",
   "execution_count": null,
   "id": "e18e4850",
   "metadata": {},
   "outputs": [],
   "source": [
    "#31060 rows × 2 columns\n",
    "adata.var"
   ]
  },
  {
   "cell_type": "code",
   "execution_count": null,
   "id": "67d906dc",
   "metadata": {},
   "outputs": [],
   "source": [
    "#64003 rows × 3 columns\n",
    "adata.obs"
   ]
  },
  {
   "cell_type": "code",
   "execution_count": null,
   "id": "2eb50d54",
   "metadata": {},
   "outputs": [],
   "source": [
    "adata.obs['sample']"
   ]
  },
  {
   "cell_type": "code",
   "execution_count": null,
   "id": "46b70823",
   "metadata": {},
   "outputs": [],
   "source": [
    "adata.obs['age']"
   ]
  },
  {
   "cell_type": "code",
   "execution_count": null,
   "id": "a107bcec",
   "metadata": {},
   "outputs": [],
   "source": [
    "adata.obs['batch']"
   ]
  },
  {
   "cell_type": "code",
   "execution_count": null,
   "id": "e72b2276",
   "metadata": {},
   "outputs": [],
   "source": [
    "# Annotate the data sets\n",
    "print(adata.obs['sample'].value_counts())\n",
    "print('')\n",
    "print(adata.obs['age'].value_counts())\n",
    "print('')\n",
    "print(adata.obs['batch'].value_counts())"
   ]
  },
  {
   "cell_type": "code",
   "execution_count": null,
   "id": "8bcdaa36",
   "metadata": {},
   "outputs": [],
   "source": [
    "# Checking the total size of the data set\n",
    "adata.shape"
   ]
  },
  {
   "cell_type": "code",
   "execution_count": null,
   "id": "9caf7766",
   "metadata": {},
   "outputs": [],
   "source": [
    "import pickle\n",
    "\n",
    "# obj0, obj1, obj2 are created here...\n",
    "\n",
    "# Saving the objects:\n",
    "with open('adata.pkl', 'wb') as f:  # Python 3: open(..., 'wb')\n",
    "    pickle.dump(adata, f)"
   ]
  },
  {
   "cell_type": "code",
   "execution_count": null,
   "id": "bf08aa67",
   "metadata": {},
   "outputs": [],
   "source": [
    "import pickle\n",
    "\n",
    "# Getting back the objects:\n",
    "with open('adata.pkl', 'rb') as f:  # Python 3: open(..., 'rb')\n",
    "    adata = pickle.load(f)"
   ]
  }
 ],
 "metadata": {
  "kernelspec": {
   "display_name": "Python 3",
   "language": "python",
   "name": "python3"
  },
  "language_info": {
   "codemirror_mode": {
    "name": "ipython",
    "version": 3
   },
   "file_extension": ".py",
   "mimetype": "text/x-python",
   "name": "python",
   "nbconvert_exporter": "python",
   "pygments_lexer": "ipython3",
   "version": "3.8.5"
  }
 },
 "nbformat": 4,
 "nbformat_minor": 5
}
