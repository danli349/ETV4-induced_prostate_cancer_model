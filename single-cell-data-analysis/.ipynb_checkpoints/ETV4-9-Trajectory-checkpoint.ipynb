{
 "cells": [
  {
   "cell_type": "markdown",
   "id": "challenging-slave",
   "metadata": {},
   "source": [
    "#  4 Trajectory inference "
   ]
  },
  {
   "cell_type": "code",
   "execution_count": null,
   "id": "worth-possibility",
   "metadata": {},
   "outputs": [],
   "source": [
    "sc.tl.draw_graph(adata)"
   ]
  },
  {
   "cell_type": "code",
   "execution_count": null,
   "id": "delayed-permit",
   "metadata": {},
   "outputs": [],
   "source": [
    "sc.pl.draw_graph(adata, color='leiden_r1', legend_loc='on data', legend_fontsize = 5, save = 'draw_graph_1.png')"
   ]
  },
  {
   "cell_type": "code",
   "execution_count": null,
   "id": "dynamic-actor",
   "metadata": {},
   "outputs": [],
   "source": [
    "sc.tl.paga(adata, groups='leiden_r1')"
   ]
  },
  {
   "cell_type": "code",
   "execution_count": null,
   "id": "sacred-nowhere",
   "metadata": {},
   "outputs": [],
   "source": [
    "marker_genes_dict"
   ]
  },
  {
   "cell_type": "code",
   "execution_count": null,
   "id": "superior-bennett",
   "metadata": {},
   "outputs": [],
   "source": [
    "sc.pl.paga(adata, color=['leiden_r1', 'EGFP3UTR'], fontsize = 6, save = \"paga_1.png\")"
   ]
  },
  {
   "cell_type": "code",
   "execution_count": null,
   "id": "informal-watson",
   "metadata": {},
   "outputs": [],
   "source": [
    "sc.pl.paga(adata, color=['Cd24a', 'Spint2'], fontsize = 6, save = \"paga_2.png\")"
   ]
  },
  {
   "cell_type": "code",
   "execution_count": null,
   "id": "eligible-heading",
   "metadata": {},
   "outputs": [],
   "source": [
    "sc.tl.draw_graph(adata, init_pos='paga')"
   ]
  },
  {
   "cell_type": "code",
   "execution_count": null,
   "id": "agricultural-comparative",
   "metadata": {},
   "outputs": [],
   "source": [
    "sc.pl.paga(adata, color=['leiden_r1', 'EGFP3UTR'], fontsize = 6, save = \"paga_3.png\")"
   ]
  },
  {
   "cell_type": "code",
   "execution_count": null,
   "id": "smoking-roads",
   "metadata": {},
   "outputs": [],
   "source": [
    "sc.pl.paga(adata, color=['Cd24a', 'Spint2'], fontsize = 6, save = \"paga_4.png\")"
   ]
  },
  {
   "cell_type": "markdown",
   "id": "optical-animal",
   "metadata": {},
   "source": [
    "And add some white space to some cluster names."
   ]
  },
  {
   "cell_type": "code",
   "execution_count": null,
   "id": "numerical-earth",
   "metadata": {},
   "outputs": [],
   "source": [
    "sc.pl.paga_compare(\n",
    "    adata, threshold=0.03, title='', right_margin=0.2, size=10, edge_width_scale=0.5,\n",
    "    legend_fontsize=8, fontsize=6, frameon=False, edges=True, save = \"paga_5.png\")"
   ]
  },
  {
   "cell_type": "markdown",
   "id": "published-hawaiian",
   "metadata": {},
   "source": [
    "# 4.2 Reconstructing gene changes along PAGA paths for a given set of genes."
   ]
  },
  {
   "cell_type": "code",
   "execution_count": null,
   "id": "anticipated-donna",
   "metadata": {},
   "outputs": [],
   "source": [
    "adata.obs"
   ]
  },
  {
   "cell_type": "code",
   "execution_count": null,
   "id": "dental-salem",
   "metadata": {},
   "outputs": [],
   "source": [
    "np.flatnonzero(adata.obs['leiden_r1']  == 'luminal_1')[0]"
   ]
  },
  {
   "cell_type": "markdown",
   "id": "nervous-absence",
   "metadata": {},
   "source": [
    "Choose a root cell for diffusion pseudotime."
   ]
  },
  {
   "cell_type": "code",
   "execution_count": null,
   "id": "measured-relations",
   "metadata": {},
   "outputs": [],
   "source": [
    "adata.uns['root'] = np.flatnonzero(adata.obs['leiden_r1']  == 'luminal_1')[0]"
   ]
  },
  {
   "cell_type": "code",
   "execution_count": null,
   "id": "sorted-athletics",
   "metadata": {},
   "outputs": [],
   "source": [
    "adata.uns['root']"
   ]
  },
  {
   "cell_type": "markdown",
   "id": "reasonable-contrast",
   "metadata": {},
   "source": [
    "Reconstruct the progression of a biological process from snapshot data. Diffusion Pseudotime has been introduced by [Haghverdi16] and implemented within Scanpy [Wolf18]. Here, we use a further developed version, which is able to deal with disconnected graphs [Wolf19] and can be run in a hierarchical mode by setting the parameter n_branchings>1. We recommend, however, to only use dpt() for computing pseudotime (n_branchings=0) and to detect branchings via paga(). For pseudotime, you need to annotate your data with a root cell. For instance:"
   ]
  },
  {
   "cell_type": "code",
   "execution_count": null,
   "id": "nervous-disaster",
   "metadata": {},
   "outputs": [],
   "source": [
    "sc.tl.diffmap(adata, n_comps=10, neighbors_key=None, copy=False)"
   ]
  },
  {
   "cell_type": "code",
   "execution_count": null,
   "id": "black-kidney",
   "metadata": {},
   "outputs": [],
   "source": [
    "adata.obsm"
   ]
  },
  {
   "cell_type": "code",
   "execution_count": null,
   "id": "boring-count",
   "metadata": {},
   "outputs": [],
   "source": [
    "sc.tl.dpt(adata, n_dcs=10)"
   ]
  },
  {
   "cell_type": "code",
   "execution_count": null,
   "id": "decreased-committee",
   "metadata": {},
   "outputs": [],
   "source": [
    "gene_names = ['Krt18', 'Cd24a', 'Spint2', 'Krt8', 'Rcn1',  # luminal\n",
    "              'Krt15', 'Fxyd3', 'Sfn', 'Apoe',                    # basal\n",
    "              'Bgn', 'Dcn', 'Igfbp7', 'Sparc']                     # fibroblast"
   ]
  },
  {
   "cell_type": "code",
   "execution_count": null,
   "id": "hairy-variance",
   "metadata": {},
   "outputs": [],
   "source": [
    "adata.obs"
   ]
  },
  {
   "cell_type": "code",
   "execution_count": null,
   "id": "looking-elevation",
   "metadata": {},
   "outputs": [],
   "source": [
    "#Use the full raw data for visualization.\n",
    "sc.pl.draw_graph(adata, color=['leiden_r1', 'dpt_pseudotime'], legend_loc='on data', save = 'dpt_pseudotime.png')"
   ]
  },
  {
   "cell_type": "code",
   "execution_count": null,
   "id": "statistical-shelf",
   "metadata": {},
   "outputs": [],
   "source": [
    "adata.obs['leiden_r1']"
   ]
  },
  {
   "cell_type": "code",
   "execution_count": null,
   "id": "common-arctic",
   "metadata": {},
   "outputs": [],
   "source": [
    "clusters = ['basal_1','basal_2','Fibroblasts_1',\n",
    "                         'basal_3', 'Fibroblasts_2','Fibroblasts_3',\n",
    "                         'Fibroblasts_4', 'myeloid-macrophage_1', 'seminal_vesicle', \n",
    "                         'luminal_1', 'luminal_2', 'T_cells_1',\n",
    "                         'luminal_3', 'myeloid-macrophage_2', 'endothelial',\n",
    "                         'luminal_4', 'luminal_5', 'dendritic_cells',\n",
    "                          'basal_4', 'T_cells_2', 'luminal_6',\n",
    "                         'Fibroblasts_5', 'myeloid-macrophage_3', 'Fibroblasts_6',\n",
    "                         'luminal_7',  'luminal_8']"
   ]
  },
  {
   "cell_type": "code",
   "execution_count": null,
   "id": "tender-publication",
   "metadata": {},
   "outputs": [],
   "source": [
    "len(clusters)"
   ]
  },
  {
   "cell_type": "code",
   "execution_count": null,
   "id": "precious-internet",
   "metadata": {},
   "outputs": [],
   "source": [
    "for cl in clusters:\n",
    "    sc.pl.umap(adata, color='leiden_r1', groups=[cl], frameon = False,\n",
    "              save = 'cluster'+cl+'.png')"
   ]
  },
  {
   "cell_type": "code",
   "execution_count": null,
   "id": "interim-delta",
   "metadata": {},
   "outputs": [],
   "source": [
    "import pickle\n",
    "\n",
    "# obj0, obj1, obj2 are created here...\n",
    "\n",
    "# Saving the objects:\n",
    "with open('adata_trajectory.pkl', 'wb') as f:  # Python 3: open(..., 'wb')\n",
    "    pickle.dump(adata, f)"
   ]
  },
  {
   "cell_type": "code",
   "execution_count": null,
   "id": "beginning-kingdom",
   "metadata": {},
   "outputs": [],
   "source": [
    "import pickle\n",
    "\n",
    "# Getting back the objects:\n",
    "with open('adata_trajectory.pkl', 'rb') as f:  # Python 3: open(..., 'rb')\n",
    "    adata = pickle.load(f)"
   ]
  },
  {
   "cell_type": "code",
   "execution_count": null,
   "id": "early-medline",
   "metadata": {},
   "outputs": [],
   "source": []
  }
 ],
 "metadata": {
  "kernelspec": {
   "display_name": "Python 3",
   "language": "python",
   "name": "python3"
  },
  "language_info": {
   "codemirror_mode": {
    "name": "ipython",
    "version": 3
   },
   "file_extension": ".py",
   "mimetype": "text/x-python",
   "name": "python",
   "nbconvert_exporter": "python",
   "pygments_lexer": "ipython3",
   "version": "3.8.5"
  }
 },
 "nbformat": 4,
 "nbformat_minor": 5
}
