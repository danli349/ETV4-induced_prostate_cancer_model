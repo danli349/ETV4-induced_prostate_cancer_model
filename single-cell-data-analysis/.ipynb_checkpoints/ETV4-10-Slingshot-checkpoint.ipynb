{
 "cells": [
  {
   "cell_type": "markdown",
   "id": "opposite-religion",
   "metadata": {},
   "source": [
    "# 5 GSEA"
   ]
  },
  {
   "cell_type": "code",
   "execution_count": null,
   "id": "falling-pickup",
   "metadata": {},
   "outputs": [],
   "source": [
    "%matplotlib inline\n",
    "%load_ext autoreload\n",
    "%autoreload 2\n",
    "import pandas as pd\n",
    "import gseapy as gp\n",
    "import matplotlib.pyplot as plt"
   ]
  },
  {
   "cell_type": "code",
   "execution_count": null,
   "id": "another-spectacular",
   "metadata": {},
   "outputs": [],
   "source": [
    "adata.obs['leiden_r1'].cat.categories"
   ]
  },
  {
   "cell_type": "code",
   "execution_count": null,
   "id": "veterinary-bible",
   "metadata": {},
   "outputs": [],
   "source": [
    "luminal3genes = adata.uns['rank_genes_r1']['names'][12]"
   ]
  },
  {
   "cell_type": "code",
   "execution_count": null,
   "id": "welsh-nashville",
   "metadata": {},
   "outputs": [],
   "source": [
    "type(luminal3genes)"
   ]
  },
  {
   "cell_type": "code",
   "execution_count": null,
   "id": "inner-special",
   "metadata": {},
   "outputs": [],
   "source": [
    "luminal3genes = luminal3genes.tolist()"
   ]
  },
  {
   "cell_type": "code",
   "execution_count": null,
   "id": "framed-spoke",
   "metadata": {},
   "outputs": [],
   "source": [
    "list(luminal3genes)"
   ]
  },
  {
   "cell_type": "code",
   "execution_count": null,
   "id": "signal-college",
   "metadata": {},
   "outputs": [],
   "source": [
    "# run enrichr\n",
    "# if you are only intrested in dataframe that enrichr returned, please set no_plot=True\n",
    "\n",
    "# list, dataframe, series inputs are supported\n",
    "enr = gp.enrichr(gene_list=list(luminal3genes),\n",
    "                 gene_sets=['KEGG_2016','KEGG_2013'],\n",
    "                 organism='Mouse', # don't forget to set organism to the one you desired! e.g. Yeast\n",
    "                 description='test_name',\n",
    "                 outdir='GSEA/luminal3genes',\n",
    "                 # no_plot=True,\n",
    "                 cutoff=0.5 # test dataset, use lower value from range(0,1)\n",
    "                )"
   ]
  },
  {
   "cell_type": "code",
   "execution_count": null,
   "id": "deluxe-decrease",
   "metadata": {},
   "outputs": [],
   "source": [
    "# simple plotting function\n",
    "from gseapy.plot import barplot, dotplot\n",
    "\n",
    "# to save your figure, make sure that ``ofname`` is not None\n",
    "barplot(enr.res2d, title='luminal_3_genes',cutoff=0.2, top_term=10, ofname = 'figures/gsea_luminal_3.png')"
   ]
  },
  {
   "cell_type": "code",
   "execution_count": null,
   "id": "declared-playing",
   "metadata": {},
   "outputs": [],
   "source": [
    "enr.res2d"
   ]
  },
  {
   "cell_type": "markdown",
   "id": "logical-steering",
   "metadata": {},
   "source": [
    "## Local mode of GO analysis"
   ]
  },
  {
   "cell_type": "code",
   "execution_count": null,
   "id": "informal-calcium",
   "metadata": {},
   "outputs": [],
   "source": [
    "enr2 = gp.enrichr(gene_list=list(luminal3genes),\n",
    "                 # or gene_list=glist\n",
    "                 description='GO_analysis',\n",
    "                 gene_sets=\"./GSEA/c6.all.v6.2.symbols.mouse.gmt\",\n",
    "                 background='mmusculus_gene_ensembl', # or the number of genes, e.g 20000\n",
    "                 outdir='GSEA/enrichr_luminal3genes',\n",
    "                 cutoff=0.5, # only used for testing.\n",
    "                 verbose=True)"
   ]
  },
  {
   "cell_type": "markdown",
   "id": "organizational-tuition",
   "metadata": {},
   "source": [
    "## 3.3 Subclustering\n",
    "\n",
    "To build on the basis clustering, we can now subcluster parts of the data to identify substructure within the identified cell types. Here, we subcluster the 'Enterocyte' population to see if we can find distal and proximal enterocyte clusters which were obtained in the (Haber et al. 2018) paper. \n",
    "\n",
    "Subclustering is normally performed at a lower resolution than on the entire dataset given that clustering is more sensitive when performed on a small subset of the data.\n",
    "\n",
    "[Timing: 57.2s]"
   ]
  },
  {
   "cell_type": "code",
   "execution_count": null,
   "id": "based-packing",
   "metadata": {},
   "outputs": [],
   "source": [
    "#Subcluster enterocytes\n",
    "sc.tl.louvain(adata, restrict_to=('louvain_r0.5', ['Enterocyte']), resolution=0.2, key_added='louvain_r0.5_entero_sub')"
   ]
  },
  {
   "cell_type": "code",
   "execution_count": null,
   "id": "chinese-ancient",
   "metadata": {},
   "outputs": [],
   "source": [
    "#Show the new clustering\n",
    "if 'louvain_r0.5_entero_sub_colors' in adata.uns:\n",
    "    del adata.uns['louvain_r0.5_entero_sub_colors']\n",
    "\n",
    "sc.pl.umap(adata, color='louvain_r0.5_entero_sub')\n",
    "sc.pl.umap(adata, color='region')"
   ]
  },
  {
   "cell_type": "markdown",
   "id": "divided-hindu",
   "metadata": {},
   "source": [
    "The subclustering has identified four subclusters of enterocytes. Plots of the the intestinal regions show that proximal (duodenum and jejunum) and distal (ileum) enterocytes have been separated in some clusters.\n",
    "\n",
    "Marker genes are now computed to verify this observation quantitatively."
   ]
  },
  {
   "cell_type": "code",
   "execution_count": null,
   "id": "interstate-disposal",
   "metadata": {},
   "outputs": [],
   "source": [
    "#Get the new marker genes\n",
    "sc.tl.rank_genes_groups(adata, groupby='louvain_r0.5_entero_sub', key_added='rank_genes_r0.5_entero_sub')"
   ]
  },
  {
   "cell_type": "code",
   "execution_count": null,
   "id": "above-cancellation",
   "metadata": {},
   "outputs": [],
   "source": [
    "#Plot the new marker genes\n",
    "sc.pl.rank_genes_groups(adata, key='rank_genes_r0.5_entero_sub', groups=['Enterocyte,0','Enterocyte,1'], fontsize=12)"
   ]
  },
  {
   "cell_type": "code",
   "execution_count": null,
   "id": "purple-closure",
   "metadata": {},
   "outputs": [],
   "source": [
    "entero_clusts = [clust for clust in adata.obs['louvain_r0.5_entero_sub'].cat.categories if clust.startswith('Enterocyte')]\n",
    "entero_clusts"
   ]
  },
  {
   "cell_type": "code",
   "execution_count": null,
   "id": "wrong-stability",
   "metadata": {},
   "outputs": [],
   "source": [
    "adata.uns['rank_genes_r0.5_entero_sub']['names']['Enterocyte,0'][90:100]"
   ]
  },
  {
   "cell_type": "markdown",
   "id": "arctic-bouquet",
   "metadata": {},
   "source": [
    "To visualize that the markers genes we detect are indeed more highly expressed in our cluster compared to background gene expression, we will now plot the last 10 marker genes (numbers 91-100) that we detect per cluster.\n",
    "\n",
    "We do this to check that there are indeed at least 100 valid marker genes for each cluster, and we don't just detect noise."
   ]
  },
  {
   "cell_type": "code",
   "execution_count": null,
   "id": "minor-creek",
   "metadata": {},
   "outputs": [],
   "source": [
    "for clust in entero_clusts:\n",
    "    sc.pl.rank_genes_groups_violin(adata, use_raw=True, key='rank_genes_r0.5_entero_sub', groups=[clust], gene_names=adata.uns['rank_genes_r0.5_entero_sub']['names'][clust][90:100])"
   ]
  },
  {
   "cell_type": "markdown",
   "id": "persistent-watershed",
   "metadata": {},
   "source": [
    "These genes appear up-regulated in our cluster. We will now test for overlap with known distal and proximal markers, and assess how strong the enterocyte markers are expressed in the subclusters."
   ]
  },
  {
   "cell_type": "code",
   "execution_count": null,
   "id": "short-machine",
   "metadata": {},
   "outputs": [],
   "source": [
    "#Subset marker gene dictionary to only check for enterocyte markers\n",
    "marker_genes_entero = {k: marker_genes[k] for k in marker_genes if k.startswith('Enterocyte')}"
   ]
  },
  {
   "cell_type": "code",
   "execution_count": null,
   "id": "elect-person",
   "metadata": {},
   "outputs": [],
   "source": [
    "#Find marker overlap\n",
    "sc.tl.marker_gene_overlap(adata, marker_genes_entero, key='rank_genes_r0.5_entero_sub', normalize='reference')"
   ]
  },
  {
   "cell_type": "code",
   "execution_count": null,
   "id": "overall-porter",
   "metadata": {},
   "outputs": [],
   "source": [
    "#Check enterocyte marker expression\n",
    "sc.pl.violin(adata[adata.obs['louvain_r0.5']==['basal_1']], groupby='louvain_r0.5_entero_sub', keys='Enterocyte_marker_expr')"
   ]
  },
  {
   "cell_type": "code",
   "execution_count": null,
   "id": "velvet-channel",
   "metadata": {},
   "outputs": [],
   "source": [
    "#Visualize some enterocyte markers\n",
    "entero_genes = ['Alpi', 'Apoa1', 'Apoa4', 'Fabp1', 'Arg2']\n",
    "sc.pl.umap(adata, color=entero_genes[:3], title=entero_genes[:3], color_map=mymap)\n",
    "sc.pl.umap(adata, color=entero_genes[3:], title=entero_genes[3:], color_map=mymap)"
   ]
  },
  {
   "cell_type": "code",
   "execution_count": null,
   "id": "instant-option",
   "metadata": {},
   "outputs": [],
   "source": [
    "sc.pl.diffmap(adata, color='louvain_r0.5_entero_sub', components='3,7')"
   ]
  },
  {
   "cell_type": "markdown",
   "id": "lined-original",
   "metadata": {},
   "source": [
    "Marker gene expression and overlap show that Enterocyte cluster 0 contains distal, and cluster 1 contains proximal enterocytes. Total enterocyte marker expression in the violin plot identifies clusters 0 and 1 as immature distal and immature proximal enterocytes respectively, while the 'Enterocyte,2' cluster contains mature enterocytes from both proximal and distal populations.\n",
    "\n",
    "Assuming that the diffusion map and Umap reprentations show a differentiation trajectory from stem cells to enterocytes, this provides further support for our labelling of immature and mature enterocyte populations."
   ]
  },
  {
   "cell_type": "code",
   "execution_count": null,
   "id": "hidden-series",
   "metadata": {},
   "outputs": [],
   "source": [
    "tmp = adata.obs['louvain_r0.5_entero_sub'].cat.categories\n",
    "\n",
    "tmp = ['Enterocyte imm. (Distal)' if item == 'Enterocyte,0' else item for item in tmp]\n",
    "tmp = ['Enterocyte imm. (Proximal)' if item == 'Enterocyte,1' else item for item in tmp]\n",
    "tmp = ['Enterocyte mature' if item == 'Enterocyte,2' else item for item in tmp]\n",
    "\n",
    "\n",
    "adata.rename_categories('louvain_r0.5_entero_sub', tmp)"
   ]
  },
  {
   "cell_type": "markdown",
   "id": "fourth-activation",
   "metadata": {},
   "source": [
    "To see if we can separate mature enterocytes further into proximal and distal regions, we can iteratively subcluster."
   ]
  },
  {
   "cell_type": "code",
   "execution_count": null,
   "id": "cultural-alexandria",
   "metadata": {},
   "outputs": [],
   "source": [
    "#Subcluster mature enterocytes\n",
    "sc.tl.louvain(adata, restrict_to=('louvain_r0.5_entero_sub', ['Enterocyte imm. (Distal)']), resolution=0.25, key_added='louvain_r0.5_entero_mat_sub')"
   ]
  },
  {
   "cell_type": "code",
   "execution_count": null,
   "id": "informative-portal",
   "metadata": {},
   "outputs": [],
   "source": [
    "#Show the new clustering\n",
    "if 'louvain_r0.5_entero_mat_sub_colors' in adata.uns:\n",
    "    del adata.uns['louvain_r0.5_entero_mat_sub_colors']\n",
    "\n",
    "sc.pl.umap(adata, color='louvain_r0.5_entero_mat_sub')"
   ]
  },
  {
   "cell_type": "code",
   "execution_count": null,
   "id": "hybrid-corporation",
   "metadata": {},
   "outputs": [],
   "source": [
    "#Get the new marker genes\n",
    "sc.tl.rank_genes_groups(adata, groupby='louvain_r0.5_entero_mat_sub', key_added='rank_genes_r0.5_entero_mat_sub')"
   ]
  },
  {
   "cell_type": "code",
   "execution_count": null,
   "id": "blocked-nashville",
   "metadata": {},
   "outputs": [],
   "source": [
    "#Plot the new marker genes\n",
    "sc.pl.rank_genes_groups(adata, key='rank_genes_r0.5_entero_mat_sub', groups=['Enterocyte imm. (Distal),0','Enterocyte imm. (Distal),1'], fontsize=12)"
   ]
  },
  {
   "cell_type": "code",
   "execution_count": null,
   "id": "norman-dispute",
   "metadata": {},
   "outputs": [],
   "source": [
    "entero_mat_clusts = [clust for clust in adata.obs['louvain_r0.5_entero_mat_sub'].cat.categories if clust.startswith('Enterocyte imm. (Distal)')]\n",
    "\n",
    "for clust in entero_mat_clusts:\n",
    "    sc.pl.rank_genes_groups_violin(adata, use_raw=True, key='rank_genes_r0.5_entero_mat_sub', groups=[clust], gene_names=adata.uns['rank_genes_r0.5_entero_mat_sub']['names'][clust][90:100])"
   ]
  },
  {
   "cell_type": "code",
   "execution_count": null,
   "id": "waiting-vacuum",
   "metadata": {},
   "outputs": [],
   "source": [
    "#Find marker overlap\n",
    "sc.tl.marker_gene_overlap(adata, marker_genes_entero, key='rank_genes_r0.5_entero_mat_sub', normalize='reference')"
   ]
  },
  {
   "cell_type": "markdown",
   "id": "qualified-myrtle",
   "metadata": {},
   "source": [
    "This separation of mature enterocytes has worked to a certain extent based on marker gene overlap. 'Enterocyte mature,0' appear to be distal mature enterocytes and 'Enterocyte mature,1' appear to be more proximal mature enterocytes (although more mixed than the distal cluster). \n",
    "\n",
    "It gets increasingly difficult to evaluate separated distal and proximal enterocytes based on marker genes. It appears that mature enterocytes share more otherwise distal and proximal markers than immature or intermediate enterocytes. A further complication is that we have partially removed the differences in the proximal and distal enterocyte populations via batch correction. This explains why clustering is not separating enterocytes between proximal and distal populations as well."
   ]
  },
  {
   "cell_type": "code",
   "execution_count": null,
   "id": "sustained-falls",
   "metadata": {},
   "outputs": [],
   "source": [
    "tmp = adata.obs['louvain_r0.5_entero_mat_sub'].cat.categories\n",
    "\n",
    "tmp = ['Enterocyte mat. (Distal)' if item == 'Enterocyte mature,0' else item for item in tmp]\n",
    "tmp = ['Enterocyte mat. (Proximal)' if item == 'Enterocyte mature,1' else item for item in tmp]\n",
    "\n",
    "adata.rename_categories('louvain_r0.5_entero_mat_sub', tmp)"
   ]
  },
  {
   "cell_type": "markdown",
   "id": "popular-riverside",
   "metadata": {},
   "source": [
    "For simplicity we will rename our final clustering 'louvain_final'"
   ]
  },
  {
   "cell_type": "code",
   "execution_count": null,
   "id": "framed-round",
   "metadata": {},
   "outputs": [],
   "source": [
    "adata.obs['louvain_final'] = adata.obs['louvain_r0.5_entero_mat_sub']"
   ]
  },
  {
   "cell_type": "code",
   "execution_count": null,
   "id": "ordered-aaron",
   "metadata": {},
   "outputs": [],
   "source": [
    "sc.pl.umap(adata, color='louvain_final', legend_loc='on data')"
   ]
  },
  {
   "cell_type": "code",
   "execution_count": null,
   "id": "fitting-chinese",
   "metadata": {},
   "outputs": [],
   "source": [
    "adata.obs['louvain_final'].value_counts()"
   ]
  },
  {
   "cell_type": "markdown",
   "id": "intermediate-maryland",
   "metadata": {},
   "source": [
    "## 3.4 Compositional analysis \n",
    "\n",
    "While it is not straightforward to test whether cell-type compositions have change between conditions (see main paper), we can visualize shifts in cellular densities between conditions. Here we visualize the densities of distal and proximal intestinal cells.\n",
    "\n",
    "[Timing: 11.7s]\n"
   ]
  },
  {
   "cell_type": "code",
   "execution_count": null,
   "id": "racial-nomination",
   "metadata": {},
   "outputs": [],
   "source": [
    "#Define a variable that stores proximal and distal labels\n",
    "#adata.obs['prox_dist'] = ['Distal' if reg=='Il' else 'Proximal' for reg in adata.obs['region']]"
   ]
  },
  {
   "cell_type": "code",
   "execution_count": null,
   "id": "latter-coast",
   "metadata": {},
   "outputs": [],
   "source": [
    "adata.obs['genotype_age']"
   ]
  },
  {
   "cell_type": "code",
   "execution_count": null,
   "id": "faced-amino",
   "metadata": {},
   "outputs": [],
   "source": [
    "sc.tl.embedding_density(adata, basis='umap', groupby='genotype_age')"
   ]
  },
  {
   "cell_type": "code",
   "execution_count": null,
   "id": "adapted-platinum",
   "metadata": {},
   "outputs": [],
   "source": [
    "adata.obs['genotype_age'].value_counts()\n",
    "sc.pl.embedding_density(adata, basis='umap', key='umap_density_genotype_age', group='TY_2weeks', save = 'TY_2weeks.png')\n",
    "sc.pl.embedding_density(adata, basis='umap', key='umap_density_genotype_age', group='TY_4months', save = 'TY_4months.png')\n",
    "sc.pl.embedding_density(adata, basis='umap', key='umap_density_genotype_age', group='EWT_2weeks', save = 'EWT_2weeks.png')\n",
    "sc.pl.embedding_density(adata, basis='umap', key='umap_density_genotype_age', group='EWT_4months', save = 'EWT_4months.png')\n",
    "sc.pl.embedding_density(adata, basis='umap', key='umap_density_genotype_age', group='E4A_2weeks', save = 'E4A_2weeks.png')\n",
    "sc.pl.embedding_density(adata, basis='umap', key='umap_density_genotype_age', group='E4A_4months', save = 'E4A_4months.png')\n",
    "sc.pl.embedding_density(adata, basis='umap', key='umap_density_genotype_age', group='E4Ap53_2weeks', save = 'E4Ap53_2weeks.png')\n",
    "sc.pl.embedding_density(adata, basis='umap', key='umap_density_genotype_age', group='E4Ap53_4months', save = 'E4Ap53_4months.png')"
   ]
  },
  {
   "cell_type": "markdown",
   "id": "second-speech",
   "metadata": {},
   "source": [
    "It appears that proximal intestinal cells have higher proportions of stem cells, enterocyte progenitors, and transit amplifying cells, while distal intestinal cells have high proportions of enterocytes and goblet cells. Although this analysis was not performed in the publication (Haber et al., Nature 2018), the latter observation is supported by the literature (Barker, van de Wetering, and Clevers, Genes & Development 2008). \n",
    "\n",
    "We should note that only relative proportions can be visually compared. The number of cells in each sample should not be taken into account as this is a parameter which is not indicative of absolute cell numbers in the intestinal epithelium, but rather related to the experimental design."
   ]
  },
  {
   "cell_type": "markdown",
   "id": "innovative-canal",
   "metadata": {},
   "source": [
    "## 3.5 Trajectory inference and pseudotime analysis \n",
    "\n",
    "As our data set contains differentiation processes, we can investigate the differentiation trajectories in the data. This analysis is centred around the concept of 'pseudotime'. In pseudotime analysis a latent variable is inferred based on which the cells are ordered. This latent variable is supposed to measure the differentiation state along a trajectory.\n",
    "\n",
    "Pseudotime analysis is complicated when there are multiple trajectories in the data. In this case, the trajectory structure in the data must first be found before pseudotime can be inferred along each trajectory. The analysis is then called 'trajectory inference'.\n",
    "\n",
    "Once the pseudotime variable is inferred, we can test for genes that vary continuously along pseudotime. These genes are seen as being associated with the trajectory, and may play a regulatory role in the potential differentiation trajectory that the analysis found. \n",
    "\n",
    "\n",
    "Here, we measure the trajectory from stem cells to enterocytes, which was also studied in the Haber et al. paper. We also investigate which genes vary along pseudotime.\n",
    "\n",
    "Based on a recent comparison of pseudotime methods [Saelens et al., 2018], we have selected the top performing 'Slingshot', 'Monocle2', and 'Diffusion Pseudotime (DPT)'. Three methods were chosen as trajectory inference is a complex problem which is not yet solved. Different methods perform well on different types of trajectories. For example, 'Slingshot' was the top performer for simple bifurcating and multifurcating trajectories; 'Monocle2' performed best for complex tree structures, and 'DPT' performed well in bifurcating trajectories and was used in the Haber et al paper from which we took this dataset. As the complexity of trajectories are generally not known, it is adviseable to compare trajectory inference outputs.\n",
    "\n",
    "[Timing: 63min 42s; Timings for each method given in subsections]"
   ]
  },
  {
   "cell_type": "code",
   "execution_count": null,
   "id": "corrected-sussex",
   "metadata": {},
   "outputs": [],
   "source": [
    "adata.obs"
   ]
  },
  {
   "cell_type": "code",
   "execution_count": null,
   "id": "subjective-theme",
   "metadata": {},
   "outputs": [],
   "source": [
    "adata.obs['leiden_r1'].value_counts()"
   ]
  },
  {
   "cell_type": "markdown",
   "id": "polyphonic-starter",
   "metadata": {},
   "source": [
    "We first subset the data to include only Stem cells, Enterocyte Progenitor cells (EP), Transit Amplifying cells (TA), and the Enterocyte subclusters. After subsetting it is important to recalculate the dimensionality reduction methods such as PCA, and diffusion maps, as the variability of the subsetted data set will be projected onto different basis vectors.\n",
    "\n",
    "Note that we subset the data to include only HVGs. Trajectory inference, and especially measuring gene expression changes over pseudotime can be a computationally expensive process, thus we often work with reduced gene sets that are informative of the variance in the data, such as HVGs."
   ]
  },
  {
   "cell_type": "code",
   "execution_count": null,
   "id": "pretty-helen",
   "metadata": {},
   "outputs": [],
   "source": [
    "#Subsetting to relevant clusters\n",
    "clusters_to_include = [g for g in adata.obs['louvain_r0.5'].cat.categories if (g.startswith(('luminal','basal')))]\n",
    "np.isin(adata.obs['louvain_r0.5'], clusters_to_include)"
   ]
  },
  {
   "cell_type": "code",
   "execution_count": null,
   "id": "classical-extent",
   "metadata": {},
   "outputs": [],
   "source": [
    "#Subsetting to relevant clusters\n",
    "clusters_to_include = [g for g in adata.obs['louvain_r0.5'].cat.categories if (g.startswith(('luminal','basal')))]\n",
    "adata_lumibas = adata[np.isin(adata.obs['louvain_r0.5'], clusters_to_include),:].copy()\n",
    "\n",
    "#Subset to highly variable genes\n",
    "sc.pp.highly_variable_genes(adata_lumibas, flavor='cell_ranger', n_top_genes=4000, subset=True)"
   ]
  },
  {
   "cell_type": "code",
   "execution_count": null,
   "id": "recognized-rwanda",
   "metadata": {},
   "outputs": [],
   "source": [
    "clusters_to_include"
   ]
  },
  {
   "cell_type": "code",
   "execution_count": null,
   "id": "innocent-silence",
   "metadata": {},
   "outputs": [],
   "source": [
    "adata_lumibas.obs['louvain_r0.5'].value_counts"
   ]
  },
  {
   "cell_type": "markdown",
   "id": "handmade-essence",
   "metadata": {},
   "source": [
    "As we have subsetted the data to include only cell types that we assume are of interest, we recalculate the dimension reduction algorithms on this data. This ensures that for example the first few PCs capture only the variance in this data and not variance in parts of the full data set we have filtered out."
   ]
  },
  {
   "cell_type": "code",
   "execution_count": null,
   "id": "aggressive-beijing",
   "metadata": {},
   "outputs": [],
   "source": [
    "#Recalculating PCA for subset\n",
    "sc.pp.pca(adata_lumibas, svd_solver='arpack')\n",
    "sc.pl.pca(adata_lumibas)\n",
    "sc.pl.pca_variance_ratio(adata_lumibas)"
   ]
  },
  {
   "cell_type": "code",
   "execution_count": null,
   "id": "knowing-receiver",
   "metadata": {},
   "outputs": [],
   "source": [
    "adata_lumibas"
   ]
  },
  {
   "cell_type": "markdown",
   "id": "proof-citizenship",
   "metadata": {},
   "source": [
    "Trajectory inference is often performed on PCA-reduced data, as is the case for Slingshot and Monocle2. To assess how many principal components (PCs) should be included in the low-dimensional representation we can use the 'elbow method'. This method involves looking for the 'elbow' in the plot of the variance ratio explained per PC. Above we can see the elbow at PC7. Thus the first seven PCs are included in the slingshot data."
   ]
  },
  {
   "cell_type": "code",
   "execution_count": null,
   "id": "respected-river",
   "metadata": {},
   "outputs": [],
   "source": [
    "adata_lumibas.obs['louvain_r0.5']"
   ]
  },
  {
   "cell_type": "code",
   "execution_count": null,
   "id": "indirect-officer",
   "metadata": {},
   "outputs": [],
   "source": [
    "adata_lumibas.uns['pca']"
   ]
  },
  {
   "cell_type": "code",
   "execution_count": null,
   "id": "noticed-copper",
   "metadata": {},
   "outputs": [],
   "source": [
    "len(adata_lumibas.obsm['X_pca'])"
   ]
  },
  {
   "cell_type": "code",
   "execution_count": null,
   "id": "national-combining",
   "metadata": {},
   "outputs": [],
   "source": [
    "adata_lumibas.obsm['X_pca'][0,]"
   ]
  },
  {
   "cell_type": "code",
   "execution_count": null,
   "id": "addressed-joint",
   "metadata": {},
   "outputs": [],
   "source": [
    "len(adata_lumibas.obsm['X_pca'][0,])"
   ]
  },
  {
   "cell_type": "code",
   "execution_count": null,
   "id": "documentary-highland",
   "metadata": {},
   "outputs": [],
   "source": [
    "adata_lumibas.obsm['X_pca'] = adata_lumibas.obsm['X_pca'][:,0:13]"
   ]
  },
  {
   "cell_type": "code",
   "execution_count": null,
   "id": "endangered-retrieval",
   "metadata": {},
   "outputs": [],
   "source": [
    "len(adata_lumibas.obsm['X_pca'])"
   ]
  },
  {
   "cell_type": "markdown",
   "id": "varied-landscape",
   "metadata": {},
   "source": [
    "### 3.5.1 Slingshot \n",
    "\n",
    "Slingshot is written in R. The integration of R in this notebook is again achieved via the rpy2 interface. We use a specifically developed package called `anndata2ri` (https://www.github.com/flying-sheep/anndata2ri), that takes care of the conversion from an AnnData object to SingleCellExperiment object in R. It should be noted that the convention for scRNA-seq data matrix storage in R is opposite to python. In R the expression matrix is stored as genes x cells rather than cells x genes. Thus, the matrix must be transposed before being input into the R function. This is already taken care of by `anndata2ri`.\n",
    "\n",
    "We are loading the normalized, log-transformed, and batch-corrected data as we want to minimize technical variation in the inferred trajectories.\n",
    "\n",
    "Implementation note:\n",
    "- this section closely follows the online Slingshot tutorial\n",
    "\n",
    "[Timing: 20min 11s out of 63min 42s]"
   ]
  },
  {
   "cell_type": "code",
   "execution_count": null,
   "id": "confident-candidate",
   "metadata": {},
   "outputs": [],
   "source": [
    "len(adata.X)"
   ]
  },
  {
   "cell_type": "code",
   "execution_count": null,
   "id": "respiratory-cornell",
   "metadata": {},
   "outputs": [],
   "source": [
    "adata"
   ]
  },
  {
   "cell_type": "code",
   "execution_count": null,
   "id": "entitled-murder",
   "metadata": {},
   "outputs": [],
   "source": [
    "import pickle\n",
    "\n",
    "# obj0, obj1, obj2 are created here...\n",
    "\n",
    "# Saving the objects:\n",
    "with open('adata_lumibas.pkl', 'wb') as f:  # Python 3: open(..., 'wb')\n",
    "    pickle.dump(adata_lumibas, f)"
   ]
  },
  {
   "cell_type": "code",
   "execution_count": null,
   "id": "tracked-mobile",
   "metadata": {},
   "outputs": [],
   "source": [
    "import pickle\n",
    "\n",
    "# Getting back the objects:\n",
    "with open('adata_lumibas.pkl', 'rb') as f:  # Python 3: open(..., 'rb')\n",
    "    adata_lumibas = pickle.load(f)"
   ]
  },
  {
   "cell_type": "code",
   "execution_count": null,
   "id": "irish-integration",
   "metadata": {},
   "outputs": [],
   "source": [
    "import anndata2ri\n",
    "anndata2ri.activate()\n",
    "%load_ext rpy2.ipython"
   ]
  },
  {
   "cell_type": "code",
   "execution_count": null,
   "id": "economic-fleece",
   "metadata": {},
   "outputs": [],
   "source": [
    "#Preprocessing for monocle\n",
    "data_mat_mon = adata.layers['counts'].T\n",
    "var_mon=adata.var.copy()\n",
    "obs_mon=adata.obs.copy()\n",
    "data_mat_mon"
   ]
  },
  {
   "cell_type": "code",
   "execution_count": null,
   "id": "nutritional-interest",
   "metadata": {},
   "outputs": [],
   "source": [
    "obs_mon"
   ]
  },
  {
   "cell_type": "code",
   "execution_count": null,
   "id": "raised-opera",
   "metadata": {},
   "outputs": [],
   "source": [
    "#4000rows X 26594 columns matrix\n",
    "adata_lumibas_mat = adata_lumibas.layers['counts'].T"
   ]
  },
  {
   "cell_type": "code",
   "execution_count": null,
   "id": "accredited-grove",
   "metadata": {},
   "outputs": [],
   "source": [
    "len(adata_lumibas_mat)"
   ]
  },
  {
   "cell_type": "code",
   "execution_count": null,
   "id": "liked-disposal",
   "metadata": {},
   "outputs": [],
   "source": [
    "len(adata_lumibas_mat[0])"
   ]
  },
  {
   "cell_type": "code",
   "execution_count": null,
   "id": "resident-trance",
   "metadata": {},
   "outputs": [],
   "source": [
    "adata_lumibas"
   ]
  },
  {
   "cell_type": "code",
   "execution_count": null,
   "id": "economic-sender",
   "metadata": {},
   "outputs": [],
   "source": [
    "adata_lumibas.obs"
   ]
  },
  {
   "cell_type": "code",
   "execution_count": null,
   "id": "challenging-tracy",
   "metadata": {},
   "outputs": [],
   "source": [
    "obs_lumibas_mon=adata_lumibas.obs.copy()"
   ]
  },
  {
   "cell_type": "code",
   "execution_count": null,
   "id": "breeding-opinion",
   "metadata": {},
   "outputs": [],
   "source": [
    "obs_lumibas_mon"
   ]
  },
  {
   "cell_type": "code",
   "execution_count": null,
   "id": "christian-person",
   "metadata": {},
   "outputs": [],
   "source": [
    "adata_lumibas.obsm['X_pca']"
   ]
  },
  {
   "cell_type": "code",
   "execution_count": null,
   "id": "final-glenn",
   "metadata": {},
   "outputs": [],
   "source": [
    "adata_lumibas.obsm['X_pca'][0]"
   ]
  },
  {
   "cell_type": "code",
   "execution_count": null,
   "id": "civic-handling",
   "metadata": {},
   "outputs": [],
   "source": [
    "len(adata_lumibas.obsm['X_pca'])"
   ]
  },
  {
   "cell_type": "code",
   "execution_count": null,
   "id": "faced-offset",
   "metadata": {},
   "outputs": [],
   "source": [
    "obsm_mon=adata_lumibas.obsm.copy()"
   ]
  },
  {
   "cell_type": "code",
   "execution_count": null,
   "id": "australian-criticism",
   "metadata": {},
   "outputs": [],
   "source": [
    "obsm_mon"
   ]
  },
  {
   "cell_type": "code",
   "execution_count": null,
   "id": "built-mediterranean",
   "metadata": {},
   "outputs": [],
   "source": [
    "obsm_mo_pca=obsm_mon['X_pca'].copy()"
   ]
  },
  {
   "cell_type": "code",
   "execution_count": null,
   "id": "brave-pioneer",
   "metadata": {},
   "outputs": [],
   "source": [
    "obsm_mo_pca[0]"
   ]
  },
  {
   "cell_type": "code",
   "execution_count": null,
   "id": "middle-bidder",
   "metadata": {},
   "outputs": [],
   "source": [
    "len(obsm_mo_pca)"
   ]
  },
  {
   "cell_type": "code",
   "execution_count": null,
   "id": "continental-adjustment",
   "metadata": {},
   "outputs": [],
   "source": [
    "%%R -i obsm_mo_pca\n",
    "head(obsm_mo_pca)"
   ]
  },
  {
   "cell_type": "code",
   "execution_count": null,
   "id": "forty-reason",
   "metadata": {},
   "outputs": [],
   "source": [
    "%%R\n",
    "length(obsm_mo_pca[,1])"
   ]
  },
  {
   "cell_type": "code",
   "execution_count": null,
   "id": "wrong-september",
   "metadata": {},
   "outputs": [],
   "source": [
    "obs_lumibas_mon['louvain_r0.5']"
   ]
  },
  {
   "cell_type": "code",
   "execution_count": null,
   "id": "canadian-telling",
   "metadata": {},
   "outputs": [],
   "source": [
    "obs_lumibas_mon"
   ]
  },
  {
   "cell_type": "code",
   "execution_count": null,
   "id": "certified-description",
   "metadata": {},
   "outputs": [],
   "source": [
    "%%R -i obs_lumibas_mon\n",
    "head(obs_lumibas_mon)"
   ]
  },
  {
   "cell_type": "code",
   "execution_count": null,
   "id": "aboriginal-absorption",
   "metadata": {},
   "outputs": [],
   "source": [
    "%%R\n",
    "head(obs_lumibas_mon[\"louvain_r0.5\"])"
   ]
  },
  {
   "cell_type": "code",
   "execution_count": null,
   "id": "institutional-spencer",
   "metadata": {},
   "outputs": [],
   "source": [
    "%%R\n",
    "head(obs_lumibas_mon)"
   ]
  },
  {
   "cell_type": "code",
   "execution_count": null,
   "id": "present-newark",
   "metadata": {},
   "outputs": [],
   "source": [
    "adata_lumibas.var"
   ]
  },
  {
   "cell_type": "code",
   "execution_count": null,
   "id": "constant-disabled",
   "metadata": {},
   "outputs": [],
   "source": [
    "%%R\n",
    "obsdata = AnnotatedDataFrame(data = obs_lumibas_mon)\n",
    "head(varLabels(obsdata), 10)"
   ]
  },
  {
   "cell_type": "code",
   "execution_count": null,
   "id": "naughty-definition",
   "metadata": {},
   "outputs": [],
   "source": [
    "adata_lumibas"
   ]
  },
  {
   "cell_type": "code",
   "execution_count": null,
   "id": "smart-gather",
   "metadata": {},
   "outputs": [],
   "source": [
    "var_lumibas_mon=adata_lumibas.var.copy()"
   ]
  },
  {
   "cell_type": "code",
   "execution_count": null,
   "id": "closing-nation",
   "metadata": {},
   "outputs": [],
   "source": [
    "var_lumibas_mon"
   ]
  },
  {
   "cell_type": "code",
   "execution_count": null,
   "id": "productive-source",
   "metadata": {},
   "outputs": [],
   "source": [
    "%%R -i var_lumibas_mon obs_lumibas_mon adata_lumibas_mat\n",
    "#Set up the CellDataSet data structure\n",
    "# cell barcodes\n",
    "obspd <- AnnotatedDataFrame(data = obs_lumibas_mon)\n",
    "# genes\n",
    "varfd <- AnnotatedDataFrame(data = var_lumibas_mon)\n",
    "# cell barcodes as columns of matrix\n",
    "colnames(data_mat_mon) <- rownames(obspd)\n",
    "# genes as rows of matrix\n",
    "rownames(data_mat_mon) <- rownames(fd)\n",
    "ie_regions_cds <- newCellDataSet(cellData=data_mat_mon, phenoData=pd, featureData=fd, expressionFamily=negbinomial.size())"
   ]
  },
  {
   "cell_type": "code",
   "execution_count": null,
   "id": "lightweight-ground",
   "metadata": {},
   "outputs": [],
   "source": [
    "%%R\n",
    "\n",
    "#Plot 1\n",
    "colour_map = brewer.pal(23,'Set1')\n",
    "par(xpd=TRUE)\n",
    "par(mar=c(4.5,5.5,2,7))\n",
    "plot(obsm_mo_pca[,1], obsm_mo_pca[,2], col=colour_map[obs_lumibas_mon[\"louvain_r0.5\"]], \n",
    "     bty='L', xlab='PC1', ylab='PC2')"
   ]
  },
  {
   "cell_type": "code",
   "execution_count": null,
   "id": "toxic-article",
   "metadata": {},
   "outputs": [],
   "source": [
    "legend(x=12, y=12, legend=unique(colData(adata_lumibas)$louvain_r0.5), \n",
    "       fill=colour_map[as.integer(unique(colData(adata_lumibas)$louvain_r0.5))])"
   ]
  },
  {
   "cell_type": "code",
   "execution_count": null,
   "id": "invisible-franchise",
   "metadata": {},
   "outputs": [],
   "source": [
    "%%R\n",
    "\n",
    "print(\"1:\")\n",
    "adata_luminals_start <- slingshot(adata_lumibas, clusterLabels = 'louvain_r0.5', reducedDim = 'PCA')\n",
    "print(SlingshotDataSet(adata_luminals_start))"
   ]
  },
  {
   "cell_type": "code",
   "execution_count": null,
   "id": "coral-sponsorship",
   "metadata": {},
   "outputs": [],
   "source": [
    "%%R\n",
    "\n",
    "print(\"2:\")\n",
    "adata_ent_startend <- slingshot(adata_lumibas, clusterLabels = 'louvain_final', reducedDim = 'PCA', start.clus='Stem', end.clus=c('Enterocyte imm. (Proximal)', 'Enterocyte imm. (Distal),0'))\n",
    "print(SlingshotDataSet(adata_ent_startend))"
   ]
  },
  {
   "cell_type": "code",
   "execution_count": null,
   "id": "bigger-binary",
   "metadata": {},
   "outputs": [],
   "source": [
    "%%R -i adata_ent\n",
    "\n",
    "print(\"3:\")\n",
    "adata_ent_simple_startend <- slingshot(adata_ent, clusterLabels = 'louvain_r0.5', reducedDim = 'PCA', start.clus='Stem', end.clus='Enterocyte')\n",
    "print(SlingshotDataSet(adata_ent_simple_startend))"
   ]
  },
  {
   "cell_type": "markdown",
   "id": "decimal-visitor",
   "metadata": {},
   "source": [
    "Here we output three inferred sets of trajectories and a plot of how the data look on a two principal component representation. The plot shows that the differentiation from stem to enterocytes is broadly captured within the first two PCs. However, it is not clear whether proximal and distal enterocyte fates are separated.\n",
    "\n",
    "The inferred trajectories can be seen in the 'lineages:' output. In the first trajectory, no endpoints are fixed and only the 'Stem' cell compartment is fixed as a starting point; the second trajectory includes fixed mature proximal and distal enterocytes as endpoints; and the third trajectory is performed over the simpler clustering without enterocyte subtypes.\n",
    "\n",
    "The inferred trajectories show that when no endpoints are fixed, the detected lineage does not distinguish between proximal and distal enterocyte endpoints. It then looks similar to the inferred trajectory without enterocyte subgroups. Trajectory inference with fixed endpoints vastly improves the trajectory and only shows an overlap of immature proximal and distal enterocytes in the distal lineage. This can be easily explained when looking at the PCA plot. In the first two PCs immature proximal and distal enterocytes overlap fully.\n",
    "\n",
    "Furthermore, TA cells cannot be fit into the enterocyte differentiation trajectory in any method. A reason for this may be that the cell-cycle effect is affecting the trajectory inference algorithm. A cell-cycle correction algorithm such as scLVM or simply regressing out the cell cycle may remove this issue. Another possible explanation is that the TA cell cluster is more involved in differentiation towards other cell fates that we have filtered out.\n",
    "\n",
    "The above trajectories can be visualized with Slingshot custom visualization tools."
   ]
  },
  {
   "cell_type": "code",
   "execution_count": null,
   "id": "aging-blend",
   "metadata": {},
   "outputs": [],
   "source": [
    "%%R\n",
    "\n",
    "#Plot of lineage 1\n",
    "colors <- colorRampPalette(brewer.pal(11,'Spectral')[-6])(100)\n",
    "plot(reducedDims(adata_ent_startend)$PCA[,c(1,2)], col = colors[cut(adata_ent_startend$slingPseudotime_1,breaks=100)], pch=16, asp = 1, xlab='PC1', ylab='PC2')\n",
    "lines(slingCurves(adata_ent_startend)$curve1, lwd=2)"
   ]
  },
  {
   "cell_type": "markdown",
   "id": "changing-prisoner",
   "metadata": {},
   "source": [
    "Implementation note:\n",
    "- In the next step we don't have to input `adata_ent`, `adata_ent_startend`, or `adata_ent_simple_startend`, as these are still available from the computation in code cell 79. In fact, as `adata_ent_startend` is not a SingleCellExperiment object, but a SlingshotObject, data will be lost when outputting this object back into python with `anndata2ri`."
   ]
  },
  {
   "cell_type": "code",
   "execution_count": null,
   "id": "younger-collaboration",
   "metadata": {},
   "outputs": [],
   "source": [
    "%%R\n",
    "\n",
    "#Plot of lineage 1\n",
    "colors <- colorRampPalette(brewer.pal(11,'Spectral')[-6])(100)\n",
    "plot(reducedDims(adata_ent_startend)$PCA[,c(1,2)], col = colors[cut(adata_ent_startend$slingPseudotime_1,breaks=100)], pch=16, asp = 1, xlab='PC1', ylab='PC2')\n",
    "lines(slingCurves(adata_ent_startend)$curve1, lwd=2)\n",
    "\n",
    "#Plot of lineage 2\n",
    "colors <- colorRampPalette(brewer.pal(11,'Spectral')[-6])(100)\n",
    "plot(reducedDims(adata_ent_startend)$PCA[,c(1,2)], col = colors[cut(adata_ent_startend$slingPseudotime_2,breaks=100)], pch=16, asp = 1, xlab='PC1', ylab='PC2')\n",
    "lines(slingCurves(adata_ent_startend)$curve2, lwd=2)\n",
    "\n",
    "#Plot of lineages with clusters visualized\n",
    "par(xpd=TRUE)\n",
    "plot(reducedDims(adata_ent_startend)$PCA[,c(1,2)], col = brewer.pal(11,'Set1')[adata_ent$louvain_final], pch=16, asp = 1, bty='L', xlab='PC1', ylab='PC2')\n",
    "lines(SlingshotDataSet(adata_ent_startend), lwd=2, type='lineages')\n",
    "legend(x=10, y=20, legend=unique(colData(adata_ent)$louvain_final), fill=brewer.pal(11,'Set1')[as.integer(unique(colData(adata_ent)$louvain_final))])\n",
    "\n",
    "#Plot of simpler clustering\n",
    "plot(reducedDims(adata_ent_simple_startend)$PCA[,c(1,2)], col = colors[cut(adata_ent_simple_startend$slingPseudotime_1,breaks=100)], pch=16, asp = 1, xlab='PC1', ylab='PC2')\n",
    "lines(SlingshotDataSet(adata_ent_simple_startend), lwd=2)"
   ]
  },
  {
   "cell_type": "markdown",
   "id": "aggressive-memorabilia",
   "metadata": {},
   "source": [
    "These plots show the lineages inferred by Slingshot. The first three plots show the lineages inferred when fixing start and end points, and the final plot shows the lineages on the clustering without enterocyte subclusters. The first, second, and fourth plots are coloured by the first pseudotime variable in the first or second lineages. As TA cells are not in these inferred lineages, TA cells are not shown in these plots. \n",
    "\n",
    "We can see that the immature enterocyte cluster centres overlap on the first two PCs which explains the difficulty of separating the two lineages. Furthermore, the placement of the 'EP (stress)' and 'TA' clusters in the second plot suggests that PC2 may have captured cell cycle variability, as these clusters show a stronger cell cycle signature than other clusters. \n",
    "\n",
    "Note that the performance of Slingshot will rely on the clustering that was input. For example, while the expected trajectory from stem cells to enterocytes is found with coarse clustering, higher resolution subclusters that resolve proximal and distal enterocyte populations only partially render clearly separated proximal and distal enterocyte trajectories. This can have several reasons including batch over-correction removing the biological difference; a lack of resolution in precursor states that do not allow for higher resolution trajectories; or simply an insufficient difference in the transcriptome between proximal and distal enterocytes.\n",
    "\n",
    "Furthermore, as mentioned above cell cycle is informative for cluster identification, however it may interfere with trajectory analysis."
   ]
  },
  {
   "cell_type": "markdown",
   "id": "extended-legislation",
   "metadata": {},
   "source": [
    "### 3.5.2 Non-batch-corrected slingshot  \n",
    "\n",
    "To assess one of the possible methods to improve our trajectory inference, we perform Slingshot on non-batch corrected data. As mentioned earlier, our batch and biological covariates are overlapping. Thus, by correcting for batch in our data we are also regressing out some biological differences between proximal and distal enterocytes.\n",
    "\n",
    "To perform the analysis on non-batch-corrected data we must subset on the data stored in the .raw attribute in the AnnData object and then recalculate highly variable genes and redo dimensionality reduction.\n",
    "\n",
    "[Timing: 22min 58s out of 63min 42s]\n"
   ]
  },
  {
   "cell_type": "code",
   "execution_count": null,
   "id": "lonely-chambers",
   "metadata": {},
   "outputs": [],
   "source": [
    "clusters_to_include"
   ]
  },
  {
   "cell_type": "code",
   "execution_count": null,
   "id": "unable-scientist",
   "metadata": {},
   "outputs": [],
   "source": [
    "adata.obs"
   ]
  },
  {
   "cell_type": "code",
   "execution_count": null,
   "id": "early-pound",
   "metadata": {},
   "outputs": [],
   "source": [
    "#Subsetting data set - non-batch corrected\n",
    "cell_mask = np.isin(adata.obs['louvain_r0.5'], clusters_to_include)\n",
    "adata_luminal_nbc = sc.AnnData(X = adata.raw.X[cell_mask,:])\n",
    "adata_luminal_nbc.obs = adata.obs[cell_mask]\n",
    "adata_luminal_nbc.var = adata.var.copy()\n",
    "\n",
    "#Subset to highly variable genes\n",
    "sc.pp.highly_variable_genes(adata_luminal_nbc, flavor='cell_ranger', n_top_genes=4000, subset=True)"
   ]
  },
  {
   "cell_type": "code",
   "execution_count": null,
   "id": "changed-governor",
   "metadata": {},
   "outputs": [],
   "source": [
    "#Recalculating PCA for subset\n",
    "sc.pp.pca(adata_luminal_nbc, svd_solver='arpack')\n",
    "sc.pl.pca(adata_luminal_nbc)\n",
    "sc.pl.pca_variance_ratio(adata_luminal_nbc)"
   ]
  },
  {
   "cell_type": "markdown",
   "id": "disturbed-sending",
   "metadata": {},
   "source": [
    "By the 'elbow method' seven PCs appear interesting in this data set."
   ]
  },
  {
   "cell_type": "code",
   "execution_count": null,
   "id": "piano-thompson",
   "metadata": {},
   "outputs": [],
   "source": [
    "adata_luminal_nbc.obsm['X_pca'] = adata_luminal_nbc.obsm['X_pca'][:,0:13]"
   ]
  },
  {
   "cell_type": "code",
   "execution_count": null,
   "id": "eastern-reproduction",
   "metadata": {},
   "outputs": [],
   "source": [
    "adata_luminal_nbc.obs"
   ]
  },
  {
   "cell_type": "code",
   "execution_count": null,
   "id": "artistic-singing",
   "metadata": {},
   "outputs": [],
   "source": [
    "%%R -i adata_luminal_nbc\n",
    "\n",
    "#Plot 1\n",
    "colour_map = brewer.pal(20,'Set1')\n",
    "par(xpd=TRUE)\n",
    "par(mar=c(4.5,5.5,2,11))\n",
    "plot(reducedDims(adata_luminal_nbc)$PCA[,1], reducedDims(adata_luminal_nbc)$PCA[,2], col=colour_map[colData(adata_luminal_nbc)$louvain_r0.5], \n",
    "     bty='L', xlab='PC1', ylab='PC2')\n",
    "legend(x=24.5, y=0, legend=unique(colData(adata_luminal_nbc)$louvain_final), fill=colour_map[as.integer(unique(colData(adata_luminal_nbc)$louvain_r0.5))])\n"
   ]
  },
  {
   "cell_type": "code",
   "execution_count": null,
   "id": "described-third",
   "metadata": {},
   "outputs": [],
   "source": [
    "%%R\n",
    "#First trajectory: only Stem cells set as root cells\n",
    "print(\"1:\")\n",
    "adata_ent_start_nbc <- slingshot(adata_ent_nbc, clusterLabels = 'louvain_final', reducedDim = 'PCA', start.clus='Stem')\n",
    "print(SlingshotDataSet(adata_ent_start_nbc))\n",
    "\n",
    "#Second trajectory: Stem cells as root cells and mature enterocytes as end clusters\n",
    "print(\"\")\n",
    "print(\"2:\")\n",
    "adata_ent_startend_nbc <- slingshot(adata_ent_nbc, clusterLabels = 'louvain_final', reducedDim = 'PCA', start.clus='Stem', end.clus=c('Enterocyte imm. (Proximal)', 'Enterocyte imm. (Distal),0'))\n",
    "print(SlingshotDataSet(adata_ent_startend_nbc))\n",
    "\n",
    "#Third trajectory: Stem cells as root cells and enterocytes as end cluster, non-subclustered data\n",
    "print(\"\")\n",
    "print(\"3:\")\n",
    "adata_ent_simple_startend_nbc <- slingshot(adata_ent_nbc, clusterLabels = 'louvain_r0.5', reducedDim = 'PCA', start.clus='Stem', end.clus='Enterocyte')\n",
    "print(SlingshotDataSet(adata_ent_simple_startend_nbc))"
   ]
  },
  {
   "cell_type": "markdown",
   "id": "threatened-girlfriend",
   "metadata": {},
   "source": [
    "Implementation note: \n",
    "- inputs `adata_ent_startend_nbc` and `adata_ent_simple_startend_nbc` are available from the computation in code cell [84]"
   ]
  },
  {
   "cell_type": "code",
   "execution_count": null,
   "id": "lyric-technology",
   "metadata": {},
   "outputs": [],
   "source": [
    "%%R\n",
    "\n",
    "colors <- colorRampPalette(brewer.pal(11,'Spectral')[-6])(100)\n",
    "\n",
    "#Plot of lineage 1\n",
    "plot(reducedDims(adata_ent_startend_nbc)$PCA[,c(1,2)], \n",
    "     col = colors[cut(adata_ent_startend_nbc$slingPseudotime_1,breaks=100)], \n",
    "     pch=16, asp = 1, xlab='PC1', ylab='PC2')\n",
    "lines(slingCurves(adata_ent_startend_nbc)$curve1, lwd=2)\n",
    "\n",
    "#Plot of lineage 2\n",
    "plot(reducedDims(adata_ent_startend_nbc)$PCA[,c(1,2)], \n",
    "     col = colors[cut(adata_ent_startend_nbc$slingPseudotime_2,breaks=100)], \n",
    "     pch=16, asp = 1, xlab='PC1', ylab='PC2')\n",
    "lines(slingCurves(adata_ent_startend_nbc)$curve2, lwd=2)\n",
    "\n",
    "#Combined plot\n",
    "plot(reducedDims(adata_ent_startend_nbc)$PCA[,c(1,2)], col = 'grey', \n",
    "     pch=16, asp = 1, size=0.8, xlab='PC1', ylab='PC2')\n",
    "points(reducedDims(adata_ent_startend_nbc)$PCA[,c(1,2)], \n",
    "       col = colors[cut(adata_ent_startend_nbc$slingPseudotime_1,breaks=100)], \n",
    "       pch=16, size=1)\n",
    "lines(slingCurves(adata_ent_startend_nbc)$curve1, lwd=2)\n",
    "lines(slingCurves(adata_ent_startend_nbc)$curve2, lwd=2)\n",
    "\n",
    "#Plot of lineages with clusters visualized\n",
    "par(xpd=TRUE)\n",
    "par(mar=c(4.5,5.5,4,1))\n",
    "plot(reducedDims(adata_ent_startend_nbc)$PCA[,c(1,2)], \n",
    "     col = brewer.pal(11,'Set1')[adata_ent_startend_nbc$louvain_final], \n",
    "     pch=16, asp = 1, bty='L', xlab='PC1', ylab='PC2')\n",
    "lines(SlingshotDataSet(adata_ent_startend_nbc), lwd=2, type='lineages')\n",
    "legend(x=6, y=20, legend=unique(colData(adata_ent_nbc)$louvain_final), fill=brewer.pal(11,'Set1')[as.integer(unique(colData(adata_ent_nbc)$louvain_final))])\n",
    "\n",
    "#Plot of simpler clustering\n",
    "plot(reducedDims(adata_ent_simple_startend_nbc)$PCA[,c(1,2)], \n",
    "     col = colors[cut(adata_ent_simple_startend_nbc$slingPseudotime_1,breaks=100)], \n",
    "     pch=16, asp = 1, xlab='PC1', ylab='PC2')\n",
    "lines(SlingshotDataSet(adata_ent_simple_startend_nbc), lwd=2)"
   ]
  },
  {
   "cell_type": "markdown",
   "id": "lovely-person",
   "metadata": {},
   "source": [
    "Using non-batch-corrected data the proximal and distal enterocyte lineages can nearly be separated as expected. The proximal immature enterocytes are still associated with both trajectories. This may be due to imperfect cluster annotation. Indeed, proximal immature enterocytes shows a strong overlap with distal markers as well. The immature proximal enterocyte cluster may contain also late enterocyte progenitors.\n",
    "\n",
    "While we do not see an improvement in the inferred trajectories over the batch-corrected data trajectories, we do see a clear separation between distal and proximal immature enterocytes in the PCA plot. As we will see in the 'Metastable states' section, batch-corrected data does result the expected trajectory there."
   ]
  },
  {
   "cell_type": "markdown",
   "id": "simple-event",
   "metadata": {},
   "source": [
    "### 3.5.3 Monocle3 \n",
    "The monocle toolbox is one of the most popular trajectory inference toolboxes in the field. It has been shown to perform particularly well on complex trajectories. Although we only have a simple bi- or multifurcating trajectory here we use Monocle2 to confirm the obtained trajectory.\n",
    "\n",
    "Monocle2 is not as much a standalone trajectory inference method, than a trajectory inference toolbox. This toolbox includes preprocessing steps and a dimensionality reduction function. It is designed in such a way that integrating preprocessed data into the data structure is non-trivial. This is likely by intent to not interfere with the optimized pipeline. Thus, we use Monocle2 on our data set from the raw data. Our cluster labels are later overlayed onto the Monocle2 output to compare the trajectory with expectations.\n",
    "\n",
    "Implementation note:\n",
    "- this section closely follows the monocle 2 tutorial\n",
    "\n",
    "[Timing: 20min 11s out of 63min 42s]"
   ]
  },
  {
   "cell_type": "code",
   "execution_count": null,
   "id": "grand-printer",
   "metadata": {},
   "outputs": [],
   "source": [
    "#Preprocessing for monocle\n",
    "data_mat_mon = adata.layers['counts'].T\n",
    "var_mon=adata.var.copy()\n",
    "obs_mon=adata.obs.copy()"
   ]
  },
  {
   "cell_type": "code",
   "execution_count": null,
   "id": "sized-chaos",
   "metadata": {},
   "outputs": [],
   "source": [
    "obs_mon"
   ]
  },
  {
   "cell_type": "code",
   "execution_count": null,
   "id": "reflected-nation",
   "metadata": {},
   "outputs": [],
   "source": [
    "%%R -i data_mat_mon -i obs_mon -i var_mon\n",
    "\n",
    "#Set up the CellDataSet data structure\n",
    "# cell barcodes\n",
    "pd <- AnnotatedDataFrame(data = obs_mon)\n",
    "# genes\n",
    "fd <- AnnotatedDataFrame(data = var_mon)\n",
    "# cell barcodes as columns of matrix\n",
    "colnames(data_mat_mon) <- rownames(pd)\n",
    "# genes as rows of matrix\n",
    "rownames(data_mat_mon) <- rownames(fd)\n",
    "ie_regions_cds <- newCellDataSet(cellData=data_mat_mon, phenoData=pd, featureData=fd, expressionFamily=negbinomial.size())\n",
    "\n",
    "#Normalize the count data\n",
    "ie_regions_cds <- estimateSizeFactors(ie_regions_cds)\n",
    "\n",
    "#Calculate dispersions to filter for highly variable genes\n",
    "ie_regions_cds <- estimateDispersions(ie_regions_cds)\n"
   ]
  },
  {
   "cell_type": "code",
   "execution_count": null,
   "id": "promising-green",
   "metadata": {},
   "outputs": [],
   "source": [
    "%%R\n",
    "head(ie_regions_cds)"
   ]
  },
  {
   "cell_type": "code",
   "execution_count": null,
   "id": "abandoned-mediterranean",
   "metadata": {},
   "outputs": [],
   "source": [
    "%%R\n",
    "\n",
    "#Filter for Stem, EP, TA, and Enterocytes\n",
    "cell_types = as.character(pData(ie_regions_cds)$louvain_r0.5)\n",
    "head(cell_types)"
   ]
  },
  {
   "cell_type": "code",
   "execution_count": null,
   "id": "regulated-contents",
   "metadata": {},
   "outputs": [],
   "source": [
    "%%R\n",
    "\n",
    "cell_mask = rep(FALSE, length(cell_types))\n",
    "cells_to_keep = c(\"luminal\", \"basal\")\n",
    "for (item in cells_to_keep) {cell_mask = cell_mask | startsWith(cell_types, item)}\n",
    "print(\"Number of cells after filtering:\")\n",
    "print(sum(cell_mask))\n",
    "print(\"\")"
   ]
  },
  {
   "cell_type": "code",
   "execution_count": null,
   "id": "attempted-chuck",
   "metadata": {},
   "outputs": [],
   "source": [
    "%%R\n",
    "length(cell_mask)"
   ]
  },
  {
   "cell_type": "code",
   "execution_count": null,
   "id": "later-details",
   "metadata": {},
   "outputs": [],
   "source": [
    "%%R\n",
    "head(fData(ie_regions_cds))"
   ]
  },
  {
   "cell_type": "code",
   "execution_count": null,
   "id": "current-stick",
   "metadata": {},
   "outputs": [],
   "source": [
    "%%R\n",
    "str(fData(ie_regions_cds))"
   ]
  },
  {
   "cell_type": "code",
   "execution_count": null,
   "id": "treated-habitat",
   "metadata": {},
   "outputs": [],
   "source": [
    "%%R\n",
    "\n",
    "\n",
    "#Filter highly variable genes from our analysis\n",
    "hvg_mask = fData(ie_regions_cds)$highly_variable\n",
    "ie_regions_cds <- ie_regions_cds[hvg_mask, cell_mask]"
   ]
  },
  {
   "cell_type": "code",
   "execution_count": null,
   "id": "driving-setting",
   "metadata": {},
   "outputs": [],
   "source": [
    "%%R\n",
    "\n",
    "#Do dimensionality reduction\n",
    "ie_regions_cds <- reduceDimension(ie_regions_cds, norm_method = 'vstExprs', reduction_method='DDRTree', verbose = F, max_components = 7)\n",
    "\n",
    "#Run for the first time to get the ordering\n",
    "ie_regions_cds <- orderCells(ie_regions_cds)"
   ]
  },
  {
   "cell_type": "code",
   "execution_count": null,
   "id": "silver-thumbnail",
   "metadata": {},
   "outputs": [],
   "source": [
    "%%R\n",
    "library(monocle3)\n",
    "plot_cells(ie_regions_cds)"
   ]
  },
  {
   "cell_type": "code",
   "execution_count": null,
   "id": "applied-drama",
   "metadata": {},
   "outputs": [],
   "source": [
    "%%R\n",
    "save(ie_regions_cds, file=paste0(\"ie_regions_cds.rda\"))"
   ]
  },
  {
   "cell_type": "code",
   "execution_count": null,
   "id": "labeled-improvement",
   "metadata": {},
   "outputs": [],
   "source": [
    "%%R\n",
    "load(\"ie_regions_cds.rda\")"
   ]
  },
  {
   "cell_type": "code",
   "execution_count": null,
   "id": "handed-certificate",
   "metadata": {},
   "outputs": [],
   "source": [
    "%%R\n",
    "\n",
    "#Find the correct root state the corresponds to the 'luminal' cluster\n",
    "tab1 <- table(pData(ie_regions_cds)$State, pData(ie_regions_cds)$louvain_r0.5)\n",
    "colnames(tab1)"
   ]
  },
  {
   "cell_type": "code",
   "execution_count": null,
   "id": "collected-knitting",
   "metadata": {},
   "outputs": [],
   "source": [
    "%%R\n",
    "\n",
    "#Find the correct root state the corresponds to the 'luminal' cluster\n",
    "id = which(colnames(tab1) == 'luminal_2')\n",
    "root_name = names(which.max(tab1[,id]))\n",
    "root_name"
   ]
  },
  {
   "cell_type": "code",
   "execution_count": null,
   "id": "rough-economics",
   "metadata": {},
   "outputs": [],
   "source": [
    "%%R\n",
    "\n",
    "#Run a second time to get the correct root state that overlaps with Stem cells\n",
    "ie_regions_cds_luminal_2 <- orderCells(ie_regions_cds, root_state=root_name)"
   ]
  },
  {
   "cell_type": "markdown",
   "id": "vulnerable-construction",
   "metadata": {},
   "source": [
    "Implementation note: \n",
    "- input `ie_regions_cds` is available from the computation in code cell [87]"
   ]
  },
  {
   "cell_type": "code",
   "execution_count": null,
   "id": "stretch-stuart",
   "metadata": {},
   "outputs": [],
   "source": [
    "%%R\n",
    "save(ie_regions_cds_luminal_2, file=paste0(\"ie_regions_cds_luminal_2.rda\"))"
   ]
  },
  {
   "cell_type": "code",
   "execution_count": null,
   "id": "organizational-construction",
   "metadata": {},
   "outputs": [],
   "source": [
    "%%R -w 1000 -h 800\n",
    "\n",
    "#Get a nice colour map\n",
    "custom_colour_map = brewer.pal(length(unique(pData(ie_regions_cds_luminal_2)$louvain_r0.5)),'Paired')\n",
    "\n",
    "#Find the correct root state that coresponds to the 'Stem' cluster\n",
    "tab1 <- table(pData(ie_regions_cds_luminal_2)$State, pData(ie_regions_cds_luminal_2)$louvain_r0.5)\n",
    "id = which(colnames(tab1) == 'luminal_2')\n",
    "root_name = names(which.max(tab1[,id]))"
   ]
  },
  {
   "cell_type": "code",
   "execution_count": null,
   "id": "nasty-perfume",
   "metadata": {},
   "outputs": [],
   "source": [
    "%%R\n",
    "\n",
    "# Visualize with our cluster labels\n",
    "options(repr.plot.width=5, repr.plot.height=4)\n",
    "\n",
    "cell_trajectory <- plot_complex_cell_trajectory(ie_regions_cds_luminal_2, color_by = 'louvain_r0.5', show_branch_points = T, \n",
    "                             cell_size = 2, cell_link_size = 1, root_states = c(root_name)) +\n",
    "scale_size(range = c(0.2, 0.2)) +\n",
    "theme(legend.position=\"left\", legend.title=element_blank(), legend.text=element_text(size=rel(1.5))) +\n",
    "guides(colour = guide_legend(override.aes = list(size=6))) + \n",
    "scale_color_manual(values = custom_colour_map)\n",
    "cell_trajectory\n",
    "ggsave(\"./figures/cell_trajectory.png\", height = 7, width = 7)"
   ]
  },
  {
   "cell_type": "markdown",
   "id": "incorporate-duplicate",
   "metadata": {},
   "source": [
    "Implementation note:\n",
    "- in the following cell input `ie_regions_cds` is available from the computation in code cell [87]"
   ]
  },
  {
   "cell_type": "code",
   "execution_count": null,
   "id": "efficient-genetics",
   "metadata": {},
   "outputs": [],
   "source": [
    "%%R\n",
    "cell_trajectory"
   ]
  },
  {
   "cell_type": "code",
   "execution_count": null,
   "id": "agricultural-netscape",
   "metadata": {},
   "outputs": [],
   "source": [
    "%%R -w 600 -h 800\n",
    "\n",
    "#Visualize pseudotime found\n",
    "options(repr.plot.width=5, repr.plot.height=4)\n",
    "plot_cell_trajectory(ie_regions_cds_luminal_2, color_by=\"Pseudotime\")\n",
    "ggsave(\"./figures/cell_trajectory_Pseudotime.png\", height = 7, width = 7)"
   ]
  },
  {
   "cell_type": "markdown",
   "id": "separate-tucson",
   "metadata": {},
   "source": [
    "Monocle2 finds a more complex branching compared to Slingshot. The trajectories off branching points 2 and 5 reflect the biology found by Slingshot best, and take up a lot of the pseudotime covariate. These trajectories loosely separate distal and proximal enterocyte trajectories, although mature enterocytes seem to be assigned more to the distal trajectory. This is a similar behavious to Slingshot without defined endpoints. Furthermore, 'TA' is separated into a different branch by branching point 2, as in Slingshot.\n",
    "\n",
    "The 'Stem', 'EP (early)', and 'EP (stress)' clusters have been separated into several branches. This separation may indicate that a heterogeneity in these clusters beyond the labels we have assigned. As we have filtered out several cell-types some of these branches may represent differentiation trajectories towards other mature cell fates. An alternative explanation for the detected lineage heterogeneity is that monocle has picked up on cell-cycle effects (especially noticeable in 'EP (early)' and 'EP (stress)' clusters), which it cannot reconcile with the acyclic tree structure it is fitting.\n",
    "\n",
    "Given that we have passed Monocle2 a comparatively simple trajectory inference problem, the observed performance is not unexpected. Monocle2 has been found to perform better on more complex topologies."
   ]
  },
  {
   "cell_type": "markdown",
   "id": "local-drive",
   "metadata": {},
   "source": [
    "### 3.5.4 Diffusion Pseudotime (DPT) \n",
    "\n",
    "Finally, we include Diffusion Pseudotime in the analysis to further support the found trajectories. Diffusion pseudotime is integrated into scanpy and is therefore easy to use with the current setup.\n",
    "\n",
    "DPT is based on diffusion maps, thus a diffusion map representation must be calculated prior to pseudotime inference. This in turn is based on a KNN graph embedding obtained from `sc.pp.neighbors()`.\n",
    "\n",
    "[Timing: 3.05s out of 63min 42s]"
   ]
  },
  {
   "cell_type": "code",
   "execution_count": null,
   "id": "joined-flesh",
   "metadata": {},
   "outputs": [],
   "source": [
    "sc.pp.neighbors(adata_lumibas)\n",
    "sc.tl.diffmap(adata_lumibas)"
   ]
  },
  {
   "cell_type": "code",
   "execution_count": null,
   "id": "alien-studio",
   "metadata": {},
   "outputs": [],
   "source": [
    "adata_lumibas"
   ]
  },
  {
   "cell_type": "code",
   "execution_count": null,
   "id": "little-usage",
   "metadata": {},
   "outputs": [],
   "source": [
    "sc.pl.diffmap(adata_lumibas, components='1,2', color='louvain_r0.5', palette = 'Paired',\n",
    "              save ='diffmap_lumibas_C12.png')\n",
    "sc.pl.diffmap(adata_lumibas, components='1,3', color='louvain_r0.5', palette = 'Paired',\n",
    "             save ='diffmap_lumibas_C13.png')\n",
    "sc.pl.diffmap(adata_lumibas, components='2,3', color='louvain_r0.5', palette = 'Paired',\n",
    "             save ='diffmap_lumibas_C23.png')"
   ]
  },
  {
   "cell_type": "markdown",
   "id": "incomplete-madness",
   "metadata": {},
   "source": [
    "Looking at the first three diffusion components (DCs) we can see that DC3 separates the proximal and distal enterocyte trajectories.\n",
    "\n",
    "In DPT we must assign a root cell to infer pseudotime. In the plots we can observe that the most appropriate root will be the Stem cell with the minimum DC1, or DC3 value, or the maximum DC2 value."
   ]
  },
  {
   "cell_type": "code",
   "execution_count": null,
   "id": "cooperative-honey",
   "metadata": {},
   "outputs": [],
   "source": [
    "adata_lumibas.obs"
   ]
  },
  {
   "cell_type": "code",
   "execution_count": 2,
   "id": "artificial-collectible",
   "metadata": {},
   "outputs": [
    {
     "data": {
      "text/plain": [
       "4294967296"
      ]
     },
     "execution_count": 2,
     "metadata": {},
     "output_type": "execute_result"
    }
   ],
   "source": [
    "4**16"
   ]
  },
  {
   "cell_type": "code",
   "execution_count": null,
   "id": "literary-rabbit",
   "metadata": {},
   "outputs": [],
   "source": [
    "adata_lumibas.obsm"
   ]
  },
  {
   "cell_type": "code",
   "execution_count": null,
   "id": "baking-equity",
   "metadata": {},
   "outputs": [],
   "source": [
    "np.argmin(adata_lumibas.obsm['X_diffmap'][luminal_2_mask,2])"
   ]
  },
  {
   "cell_type": "code",
   "execution_count": null,
   "id": "subsequent-samoa",
   "metadata": {},
   "outputs": [],
   "source": [
    "#Find the luminal_2 cell with the highest DC3 value to act as root for the diffusion pseudotime and compute DPT\n",
    "luminal_2_mask = np.isin(adata_lumibas.obs['louvain_r0.5'], 'luminal_2')\n",
    "luminal_2_id = np.argmin(adata_lumibas.obsm['X_diffmap'][luminal_2_mask,2])\n",
    "root_id = np.arange(len(luminal_2_mask))[luminal_2_mask][luminal_2_id]\n",
    "adata_lumibas.uns['iroot'] = root_id\n",
    "\n",
    "#Compute dpt\n",
    "sc.tl.dpt(adata_lumibas)"
   ]
  },
  {
   "cell_type": "code",
   "execution_count": null,
   "id": "reasonable-lunch",
   "metadata": {},
   "outputs": [],
   "source": [
    "#Visualize pseudotime over differentiation\n",
    "sc.pl.diffmap(adata_lumibas, components='1,3', color='dpt_pseudotime', save ='Pseudotime_adata_lumibas_DC13.png')"
   ]
  },
  {
   "cell_type": "markdown",
   "id": "elder-stephen",
   "metadata": {},
   "source": [
    "## 3.6 Gene expression dynamics \n",
    "\n",
    "To find genes that describe the differentiation process, we can investigate how gene expression varies across pseudotime in different trajectories. Essentially, we smooth the pseudotime variable and the expression profile of each gene, and fit a curve to the data. In our case, a generalized additive model (gam) performs well.\n",
    "\n",
    "It should be noted that this calculation is the most computationally expensive part of the entire workflow by quite a distance. This process can take up to an hour on a single core depending on computational load. This is approximately half of the time of the entire script.\n",
    "\n",
    "[Timing: 40min 20s]\n",
    "\n",
    "Implementation note:\n",
    "- input `adata_ent_simple_startend` is available from the computation in code cell [79]"
   ]
  },
  {
   "cell_type": "code",
   "execution_count": null,
   "id": "driven-flower",
   "metadata": {},
   "outputs": [],
   "source": [
    "%%R\n",
    "\n",
    "#Set the pseudotime variable\n",
    "t <- adata_ent_simple_startend$slingPseudotime_1\n",
    "\n",
    "#Extract the gene expression matrix\n",
    "Y <- assay(adata_ent_simple_startend)\n",
    "\n",
    "# fit a GAM with a loess term for pseudotime\n",
    "#Note: This takes a while\n",
    "gam.pval <- apply(Y,1,function(z){\n",
    "  d <- data.frame(z=z, t=t)\n",
    "  tmp <- gam(z ~ lo(t), data=d)\n",
    "  p <- summary(tmp)[4][[1]][1,5]\n",
    "  p\n",
    "})"
   ]
  },
  {
   "cell_type": "markdown",
   "id": "suspended-rally",
   "metadata": {},
   "source": [
    "Implementation note:\n",
    "- inputs `adata_ent_simple_startend` and `gam.pval` are available from the computation in code cells [79] and [94] respectively"
   ]
  },
  {
   "cell_type": "code",
   "execution_count": null,
   "id": "raising-meter",
   "metadata": {},
   "outputs": [],
   "source": [
    "%%R -w 600 -h 1200\n",
    "\n",
    "#Select the top 100 most significant genes that change over pseudotime\n",
    "topgenes <- names(sort(gam.pval, decreasing = FALSE))[1:100]\n",
    "heatdata <- assay(adata_ent_simple_startend)[rownames(assay(adata_ent_simple_startend)) %in% topgenes, \n",
    "                        order(t, na.last = NA)]\n",
    "\n",
    "#Scale the data per gene for visualization\n",
    "heatdata <- t(scale(t(heatdata)))\n",
    "\n",
    "#Trimm z-score scale\n",
    "heatdata[heatdata > 3] = 3\n",
    "heatdata[heatdata < -3] = -3\n",
    "\n",
    "#Get cluster assignment\n",
    "heatclus <- adata_ent_simple_startend$louvain_r0.5[order(t, na.last = NA)]\n",
    "\n",
    "#Set up a clusterExperiment data structure for heatmap visualization\n",
    "ce <- ClusterExperiment(heatdata, heatclus, transformation = function(x){x})\n",
    "\n",
    "#Plot the heatmap\n",
    "plotHeatmap(ce, clusterSamplesData = \"orderSamplesValue\", visualizeData = 'transformed', fontsize=15)"
   ]
  },
  {
   "cell_type": "markdown",
   "id": "recent-matrix",
   "metadata": {},
   "source": [
    "The above plot shows nicely how the gene expression dynamics change over pseudotime. Further, we can also see that the clusters are not entirely separated over pseudotime (from the bar above the plot). This is especially visible between EP (early) and EP (stress), which is expected given the two clusters are both marked as enterocyte progenitors.\n",
    "\n",
    "In the visualization it should be noted that the absolute expression levels can no longer be compared between genes given the z-score scaling. However, we can see at which points genes are turned on along pseudotime."
   ]
  },
  {
   "cell_type": "markdown",
   "id": "crazy-teach",
   "metadata": {},
   "source": [
    "To better interpret the above plot we look for overlaps between genes that change with pseudotime and known enterocyte marker genes."
   ]
  },
  {
   "cell_type": "code",
   "execution_count": null,
   "id": "appreciated-lesson",
   "metadata": {},
   "outputs": [],
   "source": [
    "entero_markers = marker_genes['Enterocyte (Proximal)'] + marker_genes['Enterocyte (Distal)']"
   ]
  },
  {
   "cell_type": "markdown",
   "id": "caring-league",
   "metadata": {},
   "source": [
    "Implementation note: \n",
    "- input `heatdata` is available from the computation in code cell [95]"
   ]
  },
  {
   "cell_type": "code",
   "execution_count": null,
   "id": "classified-mixture",
   "metadata": {},
   "outputs": [],
   "source": [
    "%%R -i entero_markers\n",
    "print(rownames(heatdata)[rownames(heatdata) %in% entero_markers])"
   ]
  },
  {
   "cell_type": "markdown",
   "id": "independent-killing",
   "metadata": {},
   "source": [
    "The gene dynamics show the expected gradual up-regulation of enterocyte markers such as Lct, Mttp, etc. Early markers of enterocytes that are already identifiable in the enterocyte progenitor population can also be identified (Reg3b, Reg3g show elevated levels of expression earlier than other more mature enterocyte markers).\n",
    "\n",
    "The gene expression of ribosomal genes (Rps-genes) that characterize the stem cell populations (see also marker gene plots) is shown to decrease over pseudotime."
   ]
  },
  {
   "cell_type": "markdown",
   "id": "involved-sustainability",
   "metadata": {},
   "source": [
    "## 3.7 Metastable States"
   ]
  },
  {
   "cell_type": "markdown",
   "id": "dominant-contrast",
   "metadata": {},
   "source": [
    "In order to detect metastable states across a trajectory we can plot a histogram of the pseudotime variable for one lineage. Here, we plot the density across a non-batch-corrected Slingshot lineage where start and end states were defined. We colour the histogram by the most common cell-type cluster in each pseudotime bin. This shows us which clusters are dominant states along the trajectory.\n",
    "\n",
    "[Timing: 1.01s]"
   ]
  },
  {
   "cell_type": "markdown",
   "id": "fantastic-location",
   "metadata": {},
   "source": [
    "Implementation note:\n",
    "- input `adata_ent_startend_nbc` is available from the computation in code cell [84]"
   ]
  },
  {
   "cell_type": "code",
   "execution_count": null,
   "id": "supreme-scene",
   "metadata": {},
   "outputs": [],
   "source": [
    "%%R\n",
    "\n",
    "pt1 <- adata_ent_startend_nbc$slingPseudotime_1\n",
    "clustDat <- adata_ent_startend_nbc$louvain_final\n",
    "\n",
    "#Subset data to only include cells on lineage 1\n",
    "clustDat <- clustDat[!is.na(pt1)]\n",
    "pt1 <- pt1[!is.na(pt1)]\n",
    "df = data.frame(clusters = clustDat, pt = pt1)\n",
    "\n",
    "#Bin clusters in same way as pseudotime:\n",
    "bin_width = 0.5\n",
    "max_bin = ceiling(max(df$pt)*2)/2\n",
    "df['bins'] = cut(df$pt, breaks=seq(-bin_width/2, max_bin, bin_width))\n",
    "\n",
    "#Find dominant cluster in each bin\n",
    "Mode <- function(x) {\n",
    "  ux <- unique(x)\n",
    "  ux[which.max(tabulate(match(x, ux)))]\n",
    "}\n",
    "\n",
    "dominant_clusters = sapply(levels(df$bins), function(x){Mode(df$clust[df$bins==x])})\n",
    "levels(dominant_clusters) <- c(levels(dominant_clusters), 'None')\n",
    "dominant_clusters[is.na(dominant_clusters)] <- 'None'\n",
    "\n",
    "#Define colour map\n",
    "cmap <- brewer.pal(11,'Set1')\n",
    "\n",
    "#Plot meta-stable states\n",
    "p <- qplot(adata_ent_startend_nbc$slingPseudotime_1, geom='histogram', main='Cellular density over trajectory', xlab='Pseudotime', binwidth=bin_width, fill=I(cmap[dominant_clusters])) +\n",
    "theme_bw() +\n",
    "scale_colour_manual(name=\"Cluster\", values=c('EP (Distal)'=cmap[levels(dominant_clusters)[1]], 'EP (early)'=cmap[levels(dominant_clusters)[2]], EP_early=\"purple\"))\n",
    "print(p)\n",
    "\n",
    "#Plot of lineages with clusters visualized\n",
    "par(xpd=TRUE)\n",
    "par(mar=c(4.5,5.5,2,1))\n",
    "plot(reducedDims(adata_ent_startend_nbc)$PCA[,c(1,2)], col = brewer.pal(11,'Set1')[adata_ent$louvain_final], pch=16, asp = 1, bty='L', xlab='PC1', ylab='PC2')\n",
    "lines(SlingshotDataSet(adata_ent_startend_nbc), lwd=2, type='lineages')\n",
    "legend(x=10, y=20, legend=unique(colData(adata_ent)$louvain_final), fill=cmap[as.integer(unique(colData(adata_ent)$louvain_final))])"
   ]
  },
  {
   "cell_type": "markdown",
   "id": "controlling-argument",
   "metadata": {},
   "source": [
    "The metastable states plot shows two to four density peaks along pseudotime. The first peak is at pseudotime 0. As stem cells are a regenerating population, it makes sense that these represent a stable state at the beginning of the trajectory. The next metastable states are at the transition to the first EP state, and at the immature enterocyte state. Finally we see a stable state represented by mature distal enterocytes.\n",
    "\n",
    "It should be noted that although the proximal immature enterocyte cluster was integrated into the inferred distal enterocyte trajectory (see PCA plot), only in two shallow bins in the trajectory are most cells from the proximal immature enterocyte cluster. This indicates that the inferred trajectory likely only goes through few proximal immature enterocyte cells due to an imperfect clustering. This imperfect clustering can further be seen in the starting state being labelled as 'EP (early)'. This is likely due to an overlap of stem cells and early enterocyte progenitors in the 'EP (early)' cluster."
   ]
  },
  {
   "cell_type": "markdown",
   "id": "pretty-tuning",
   "metadata": {},
   "source": [
    "Update note:\n",
    "\n",
    "In previous version of this notebook, due to a slightly altered clustering, no immature proximal enterocyte bins were in this plot at all. Furthermore, there was an additional metastable state as the 'EP (stress)' cluster was also included in the trajectory. In this version, due to the stochasticity in the clustering results, it is not."
   ]
  },
  {
   "cell_type": "markdown",
   "id": "suspected-venice",
   "metadata": {},
   "source": [
    "## 3.8 Partition-based graph abstraction \n",
    "\n",
    "Partition-based graph abstraction (PAGA) is a method to reconcile clustering and pseudotemporal ordering. It can be applied to an entire dataset and does not assume that there are continuous trajectories connecting all clusters.\n",
    "\n",
    "As PAGA is integrated into scanpy, we can easily run it on the entire data set. Here we run and visualize PAGA with different clustering inputs.\n",
    "\n",
    "[Timing: 1min 50s]"
   ]
  },
  {
   "cell_type": "code",
   "execution_count": null,
   "id": "living-clark",
   "metadata": {},
   "outputs": [],
   "source": [
    "adata.obs"
   ]
  },
  {
   "cell_type": "code",
   "execution_count": null,
   "id": "curious-campbell",
   "metadata": {},
   "outputs": [],
   "source": [
    "sc.tl.paga(adata, groups='louvain_r0.5')\n",
    "sc.pl.paga_compare(adata, save = \"PBGApaga_compare.png\")\n",
    "sc.pl.paga(adata, save = \"PBGApaga.png\")"
   ]
  },
  {
   "cell_type": "markdown",
   "id": "professional-grove",
   "metadata": {},
   "source": [
    "The close connectivity of enterocyte subclusters shows the similarity of these cells, or may show imperfections in the cluster definitions of immature vs mature and proximal vs distal enterocytes. We could already see overlaps in the marker gene identification. This is particularly the case for the immature proximal enterocyte cluster, which has links to all distal and proximal enterocyte and EP states. This cell-type cluster showed a strong overlap with distal markers as well as proximal markers.  \n",
    "\n",
    "In the plot we see stronger links between mature enterocyte subclusters and between distal and proximal subclusters respectively. We can interpret this as transcriptional similarity within distal and proximal lineages, and within enterocyte maturation states. This result shows that not all connections in PAGA represent differentiation trajectories, but instead transcriptional similarity between states. Thus, further experiments are required to confirm potential lineage trajectories obtained via PAGA or other trajectory inference methods.\n",
    "\n",
    "To continue, we treat enterocytes as a single cluster."
   ]
  },
  {
   "cell_type": "code",
   "execution_count": null,
   "id": "dominican-stockholm",
   "metadata": {},
   "outputs": [],
   "source": [
    "sc.tl.paga(adata, groups='louvain_r0.5')\n",
    "sc.pl.paga_compare(adata)\n",
    "sc.pl.paga(adata)"
   ]
  },
  {
   "cell_type": "markdown",
   "id": "judicial-interaction",
   "metadata": {},
   "source": [
    "We can do the same visualization on a umap layout."
   ]
  },
  {
   "cell_type": "code",
   "execution_count": null,
   "id": "engaging-blade",
   "metadata": {},
   "outputs": [],
   "source": [
    "sc.pl.paga_compare(adata, basis='umap')"
   ]
  },
  {
   "cell_type": "code",
   "execution_count": null,
   "id": "official-performer",
   "metadata": {},
   "outputs": [],
   "source": [
    "fig1, ax1 = plt.subplots()\n",
    "sc.pl.umap(adata, size=30, ax=ax1, show=False)\n",
    "sc.pl.paga(adata, pos=adata.uns['paga']['pos'], show=False, node_size_scale=10, node_size_power=1, ax=ax1, text_kwds={'alpha':0})\n",
    "#plt.savefig('./figures/umap_paga_overlay_gut.pdf', dpi=300, format='pdf')\n",
    "plt.show()"
   ]
  },
  {
   "cell_type": "markdown",
   "id": "grave-visiting",
   "metadata": {},
   "source": [
    "Implementation note:\n",
    "- Note that the above plotting function only works when `sc.pl.paga_compare(adata, basis='umap')` is run before. The `sc.pl.paga_compare()` function stores the correct positions in `adata.uns['paga']['pos']` to overlay the PAGA plot with a umap representation. To overlap PAGA with other representation, you can run `sc.pl.paga_compare()` with other `basis` parameters before plotting the combined plot. \n",
    "\n",
    "Using the simpler clustering, the PAGA plot shows the expected transition between stem cells to enterocytes that traverses the EP and/or TA cells. Interestingly TA cells are also included meaningfully in this trajectory, although not as expected directly from Stem cells. This is likely because the 'EP (early)' cluster includes stem cells as well as early enterocyte progenitors. Indeed, the connectivities of the 'TA', 'EP (early)' and 'Stem' clusters with other clusters in the dataset indicate that these may all contain stem cells. \n",
    "\n",
    "Furthermore, regressing out the cell cycle effect will likely change how 'TA' cells are included in the trajectory. In this manner trajectory inference and graph abstraction can be iteratively improved. \n",
    "\n",
    "A noteworthy result is the separation of absorptative (enterocyte) and secretory (tuft, paneth, enteroendocrine, and goblet) lineages in the intestine. Further iterative improvement can be applied to the secretory lineage region of the graph. For example. the UMAP representation shows a transition between paneth and stem cells which we expect to occur in the data. Paneth cells have more counts per cell than stem cells which can complicate the trajectory inference.\n",
    "\n",
    "We show here how we can improve the inference results by regressing out counts and using non-batch corrected data."
   ]
  },
  {
   "cell_type": "code",
   "execution_count": null,
   "id": "civic-freeze",
   "metadata": {},
   "outputs": [],
   "source": [
    "#Create new Anndata object with non-batch corrected data\n",
    "# log-normalized no scaled data in adata.raw and adata_test\n",
    "adata_test = adata.copy()\n",
    "adata_test.X = adata.raw.X"
   ]
  },
  {
   "cell_type": "code",
   "execution_count": null,
   "id": "curious-queue",
   "metadata": {},
   "outputs": [],
   "source": [
    "#Regress out counts and redo pre-processing\n",
    "sc.pp.regress_out(adata_test, 'n_counts')\n",
    "sc.pp.pca(adata_test, use_highly_variable=True, svd_solver='arpack')\n",
    "sc.pp.neighbors(adata_test)"
   ]
  },
  {
   "cell_type": "code",
   "execution_count": null,
   "id": "induced-ability",
   "metadata": {},
   "outputs": [],
   "source": [
    "#Recalculate PAGA\n",
    "sc.tl.paga(adata_test, groups='louvain_r0.5')\n",
    "sc.pl.paga_compare(adata_test, basis='umap', save = \"rawdata_PBGApaga_compare.png\")\n",
    "sc.pl.paga(adata_test, save = \"rawdata_PBGApaga.png\")"
   ]
  },
  {
   "cell_type": "markdown",
   "id": "automatic-composer",
   "metadata": {},
   "source": [
    "In the above representation the connection between stem cells and paneth cells has become more evident (thicker line). This is also true for the Goblet, enteroendocrine, and tuft cell connections. These cell clusters appear to share a progenitor cell population as suggested by the UMAP representation. \n",
    "\n",
    "As evident by the above results, trajectory inference and PAGA can be iteratively improved to better represent the biology. Knowing when to stop attempting to improve, or assessing when all of the relevant technical covariates have been taken into account can only be achieved with sufficient knowledge of the biological system, experience, and possibly some luck.\n",
    "\n",
    "It should also be noted that while an abstracted graph or an inferred trajectory can help to infer a lineage tree, experimental validation is necessary. Key driving forces in lineage specification might be lowly expressed genes and therefore neglected in the graph or even excluded in the HVG filtering."
   ]
  },
  {
   "cell_type": "code",
   "execution_count": null,
   "id": "pregnant-vault",
   "metadata": {},
   "outputs": [],
   "source": []
  }
 ],
 "metadata": {
  "kernelspec": {
   "display_name": "Python 3",
   "language": "python",
   "name": "python3"
  },
  "language_info": {
   "codemirror_mode": {
    "name": "ipython",
    "version": 3
   },
   "file_extension": ".py",
   "mimetype": "text/x-python",
   "name": "python",
   "nbconvert_exporter": "python",
   "pygments_lexer": "ipython3",
   "version": "3.8.5"
  }
 },
 "nbformat": 4,
 "nbformat_minor": 5
}
